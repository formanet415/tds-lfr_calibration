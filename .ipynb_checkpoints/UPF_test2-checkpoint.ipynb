{
 "cells": [
  {
   "cell_type": "code",
   "execution_count": 1,
   "id": "c080ab0a",
   "metadata": {},
   "outputs": [],
   "source": [
    "## Libraries to import\n",
    "import scipy.special as sps\n",
    "import numpy as np\n",
    "import math\n",
    "from matplotlib import pyplot as plt\n",
    "\n",
    "# Array for testing\n",
    "a = np.arange(-5,5,0.05)\n",
    "# Sample data\n",
    "d = [178,176,171,164,171,164,159,163,160,170,181,153]"
   ]
  },
  {
   "cell_type": "code",
   "execution_count": 2,
   "id": "08a77025",
   "metadata": {},
   "outputs": [],
   "source": [
    "def dist(x, mu = 0, sigma = 1):\n",
    "    return 0.5 * (1 + sps.erf((x-mu)/(np.sqrt(2*sigma**2)))) \n",
    "def analyze(data, p=0.05):\n",
    "    x_mean = np.mean(data)\n",
    "    sigma_one = np.std(data, ddof=1)\n",
    "    print('result = ('+str(x_mean)+'+-'+str(sigma_one/np.sqrt(len(data)))+')unit')\n",
    "    print('single measurement std = '+str(sigma_one)+' unit')\n",
    "    abs_dev = abs(data-x_mean)\n",
    "    \n",
    "    npdata = np.array(data)\n",
    "    twosigma = abs_dev<sigma_one*2\n",
    "    twosigmapass = np.sum(twosigma)==len(data)\n",
    "    twosigma = npdata[twosigma]\n",
    "    \n",
    "    threesigma = abs_dev<sigma_one*3\n",
    "    threesigmapass =  np.sum(threesigma)==len(data)\n",
    "    threesigma = npdata[threesigma]\n",
    "    \n",
    "    probs = dist(npdata, x_mean, sigma_one)\n",
    "    phalf = p/2\n",
    "    \n",
    "    aa= np.array(p<probs).astype(int)\n",
    "    bb = np.array(probs<(1-p)).astype(int)\n",
    "    ptwosided = (np.floor((aa+bb)/2).astype(bool))\n",
    "    ptwosidedpass = np.sum(ptwosided)==len(data)\n",
    "    ptwosided = npdata[ptwosided]\n",
    "    \n",
    "    aa= np.array(phalf<probs).astype(int)\n",
    "    bb = np.array(probs<(1-phalf)).astype(int)\n",
    "    ponesided = (np.floor((aa+bb)/2).astype(bool))\n",
    "    ponesidedpass = np.sum(ponesided)==len(data)\n",
    "    ponesided = npdata[ponesided]\n",
    "    \n",
    "    \n",
    "    print('meets 2 sigma criterium: ' + str(twosigmapass))\n",
    "    print(twosigma)\n",
    "    print('meets 3 sigma criterium: ' + str(threesigmapass))\n",
    "    print(threesigma)\n",
    "    print('meets double sided p criterium: ' + str(ptwosidedpass))\n",
    "    print(ptwosided)\n",
    "    print('meets single sided p criterium: ' + str(ponesidedpass))\n",
    "    print(ponesided)\n",
    "    \n",
    "\n",
    "    return x_mean, sigma_one, sigma_one/np.sqrt(len(data)), twosigma, threesigma, ptwosided, ponesided\n"
   ]
  },
  {
   "cell_type": "code",
   "execution_count": null,
   "id": "f3f89ef4",
   "metadata": {},
   "outputs": [],
   "source": []
  },
  {
   "cell_type": "code",
   "execution_count": 3,
   "id": "31b71739",
   "metadata": {
    "collapsed": true
   },
   "outputs": [
    {
     "name": "stdout",
     "output_type": "stream",
     "text": [
      "result = (167.5+-2.4293034292807376)unit\n",
      "single measurement std = 8.415353933031088 unit\n",
      "meets 2 sigma criterium: True\n",
      "[178 176 171 164 171 164 159 163 160 170 181 153]\n",
      "meets 3 sigma criterium: True\n",
      "[178 176 171 164 171 164 159 163 160 170 181 153]\n",
      "meets double sided p criterium: False\n",
      "[178 176 171 164 171 164 159 163 160 170 181]\n",
      "meets single sided p criterium: True\n",
      "[178 176 171 164 171 164 159 163 160 170 181 153]\n"
     ]
    },
    {
     "data": {
      "text/plain": [
       "(167.5,\n",
       " 8.415353933031088,\n",
       " 2.4293034292807376,\n",
       " array([178, 176, 171, 164, 171, 164, 159, 163, 160, 170, 181, 153]),\n",
       " array([178, 176, 171, 164, 171, 164, 159, 163, 160, 170, 181, 153]),\n",
       " array([178, 176, 171, 164, 171, 164, 159, 163, 160, 170, 181]),\n",
       " array([178, 176, 171, 164, 171, 164, 159, 163, 160, 170, 181, 153]))"
      ]
     },
     "execution_count": 3,
     "metadata": {},
     "output_type": "execute_result"
    }
   ],
   "source": [
    "analyze(d)"
   ]
  },
  {
   "cell_type": "code",
   "execution_count": 4,
   "id": "48fd6df5",
   "metadata": {
    "collapsed": true
   },
   "outputs": [
    {
     "name": "stdout",
     "output_type": "stream",
     "text": [
      "result = (167.5+-2.4293034292807376)unit\n",
      "single measurement std = 8.415353933031088 unit\n",
      "meets 2 sigma criterium: True\n",
      "[178 176 171 164 171 164 159 163 160 170 181 153]\n",
      "meets 3 sigma criterium: True\n",
      "[178 176 171 164 171 164 159 163 160 170 181 153]\n",
      "meets double sided p criterium: True\n",
      "[178 176 171 164 171 164 159 163 160 170 181 153]\n",
      "meets single sided p criterium: True\n",
      "[178 176 171 164 171 164 159 163 160 170 181 153]\n"
     ]
    },
    {
     "data": {
      "text/plain": [
       "(167.5,\n",
       " 8.415353933031088,\n",
       " 2.4293034292807376,\n",
       " array([178, 176, 171, 164, 171, 164, 159, 163, 160, 170, 181, 153]),\n",
       " array([178, 176, 171, 164, 171, 164, 159, 163, 160, 170, 181, 153]),\n",
       " array([178, 176, 171, 164, 171, 164, 159, 163, 160, 170, 181, 153]),\n",
       " array([178, 176, 171, 164, 171, 164, 159, 163, 160, 170, 181, 153]))"
      ]
     },
     "execution_count": 4,
     "metadata": {},
     "output_type": "execute_result"
    }
   ],
   "source": [
    "analyze(d, p=0.01)"
   ]
  },
  {
   "cell_type": "code",
   "execution_count": 8,
   "id": "4f910b4f",
   "metadata": {},
   "outputs": [
    {
     "name": "stdout",
     "output_type": "stream",
     "text": [
      "result = (149.5+-6.491447364716815)unit\n",
      "single measurement std = 20.527758983602883 unit\n",
      "meets 2 sigma criterium: False\n",
      "[162 150 161 161 152 126 154 144 179]\n",
      "meets 3 sigma criterium: True\n",
      "[162 150 161 161 106 152 126 154 144 179]\n",
      "meets double sided p criterium: False\n",
      "[162 150 161 161 152 126 154 144 179]\n",
      "meets single sided p criterium: False\n",
      "[162 150 161 161 152 126 154 144 179]\n"
     ]
    },
    {
     "data": {
      "text/plain": [
       "(149.5,\n",
       " 20.527758983602883,\n",
       " 6.491447364716815,\n",
       " array([162, 150, 161, 161, 152, 126, 154, 144, 179]),\n",
       " array([162, 150, 161, 161, 106, 152, 126, 154, 144, 179]),\n",
       " array([162, 150, 161, 161, 152, 126, 154, 144, 179]),\n",
       " array([162, 150, 161, 161, 152, 126, 154, 144, 179]))"
      ]
     },
     "execution_count": 8,
     "metadata": {},
     "output_type": "execute_result"
    }
   ],
   "source": [
    "# test\n",
    "d = [162,\n",
    "     150,\n",
    "     161,\n",
    "     161,\n",
    "     106,\n",
    "     152,\n",
    "     126,\n",
    "     154,\n",
    "     144,\n",
    "     179]\n",
    "\n",
    "analyze(d)"
   ]
  },
  {
   "cell_type": "code",
   "execution_count": null,
   "id": "b3f42ff8",
   "metadata": {},
   "outputs": [],
   "source": [
    "####################################################################################################################\n",
    "#  3 sigma 99.7%\n",
    "#  2 sigma 95.5%"
   ]
  },
  {
   "cell_type": "code",
   "execution_count": 17,
   "id": "d5f76b55",
   "metadata": {},
   "outputs": [
    {
     "data": {
      "text/plain": [
       "[<matplotlib.lines.Line2D at 0x1581d5d0788>]"
      ]
     },
     "execution_count": 17,
     "metadata": {},
     "output_type": "execute_result"
    },
    {
     "data": {
      "image/png": "[encoded data removed]",
      "text/plain": [
       "<Figure size 432x288 with 1 Axes>"
      ]
     },
     "metadata": {
      "needs_background": "light"
     },
     "output_type": "display_data"
    }
   ],
   "source": [
    "mu = 149.5\n",
    "sigma = 20.527758983602883\n",
    "x = np.arange(80,220)\n",
    "plt.plot(x,prob(x,mu,sigma))"
   ]
  },
  {
   "cell_type": "code",
   "execution_count": 18,
   "id": "0c52e640",
   "metadata": {},
   "outputs": [
    {
     "name": "stdout",
     "output_type": "stream",
     "text": [
      "190.55551796720576\n",
      "108.44448203279424\n"
     ]
    }
   ],
   "source": [
    "print(mu+sigma*2)\n",
    "print(mu-sigma*2)"
   ]
  },
  {
   "cell_type": "code",
   "execution_count": 20,
   "id": "5eba5c0d",
   "metadata": {},
   "outputs": [
    {
     "name": "stdout",
     "output_type": "stream",
     "text": [
      "result = (154.33333333333334+-4.844813951249544)unit\n",
      "single measurement std = 14.534441853748634 unit\n",
      "meets 2 sigma criterium: True\n",
      "[162 150 161 161 152 126 154 144 179]\n",
      "meets 3 sigma criterium: True\n",
      "[162 150 161 161 152 126 154 144 179]\n",
      "meets double sided p criterium: False\n",
      "[162 150 161 161 152 154 144]\n",
      "meets single sided p criterium: True\n",
      "[162 150 161 161 152 126 154 144 179]\n"
     ]
    },
    {
     "data": {
      "text/plain": [
       "(154.33333333333334,\n",
       " 14.534441853748634,\n",
       " 4.844813951249544,\n",
       " array([162, 150, 161, 161, 152, 126, 154, 144, 179]),\n",
       " array([162, 150, 161, 161, 152, 126, 154, 144, 179]),\n",
       " array([162, 150, 161, 161, 152, 154, 144]),\n",
       " array([162, 150, 161, 161, 152, 126, 154, 144, 179]))"
      ]
     },
     "execution_count": 20,
     "metadata": {},
     "output_type": "execute_result"
    }
   ],
   "source": [
    "d= [162, 150, 161, 161, 152, 126, 154, 144, 179]\n",
    "analyze(d)"
   ]
  },
  {
   "cell_type": "code",
   "execution_count": 22,
   "id": "c75e4362",
   "metadata": {},
   "outputs": [
    {
     "name": "stdout",
     "output_type": "stream",
     "text": [
      "197.93665889457924\n",
      "110.73000777208745\n"
     ]
    }
   ],
   "source": [
    "mu=154.33333333333334\n",
    "sigma=14.534441853748634\n",
    "print(mu+sigma*3)\n",
    "print(mu-sigma*3)"
   ]
  },
  {
   "cell_type": "code",
   "execution_count": 35,
   "id": "ab44f309",
   "metadata": {},
   "outputs": [
    {
     "name": "stdout",
     "output_type": "stream",
     "text": [
      "0.3699271533945822\n"
     ]
    }
   ],
   "source": [
    "a=57\n",
    "sa=1\n",
    "b=74.5\n",
    "sb=0.5\n",
    "\n",
    "a=np.deg2rad(a)\n",
    "sa=np.deg2rad(sa)\n",
    "b=np.deg2rad(b)\n",
    "sb=np.deg2rad(sb)\n",
    "\n",
    "d= 6.72\n",
    "sd= 0.03\n",
    "\n",
    "print(((d*sa)/(np.sin(a) *(1/np.tan(a)))**2 + ((1/np.tan(b))**2)+(d*sb)/(np.sin(b))**2 *(1/np.tan(a))**2 + ((1/np.tan(b))**2)+(sd)/(1/np.tan(a) + 1/np.tan(b)))**2)"
   ]
  },
  {
   "cell_type": "code",
   "execution_count": 25,
   "id": "8972670b",
   "metadata": {},
   "outputs": [
    {
     "data": {
      "text/plain": [
       "0.5477225575051661"
      ]
     },
     "execution_count": 25,
     "metadata": {},
     "output_type": "execute_result"
    }
   ],
   "source": [
    "np.sqrt(0.3)"
   ]
  },
  {
   "cell_type": "code",
   "execution_count": 9,
   "id": "01326c05",
   "metadata": {},
   "outputs": [],
   "source": [
    "### Gauss ###\n",
    "mu = 0 \n",
    "sigma = 1\n",
    "\n",
    "# hustota pravděpodobnosti\n",
    "def prob(x, mu = 0, sigma = 1):\n",
    "    return 1/np.sqrt(2*np.pi*sigma**2) * np.exp(-np.square(x-mu)/(2*sigma**2))\n",
    "\n",
    "# distribuční funkce\n",
    "def dist(x, mu = 0, sigma = 1):\n",
    "    return 0.5 * (1 + sps.erf((x-mu)/(np.sqrt(2*sigma**2)))) \n",
    "\n",
    "\n",
    "### Cauchy ###\n",
    "\n",
    "x0 = 0\n",
    "L = 1\n",
    "\n",
    "# hustota pravděpodobnosti\n",
    "def cprob(x, x0=0,L=1):\n",
    "    return 1/np.pi * L/(L**2+np.square(x-x0))\n",
    "\n",
    "# distribuční funkce\n",
    "def cdist(x, x0=0,L=1):\n",
    "    return 1/np.pi * ((np.pi)/(2) + np.arctan((x-x0)/(L)))"
   ]
  },
  {
   "cell_type": "code",
   "execution_count": 3,
   "id": "ac300b30",
   "metadata": {},
   "outputs": [],
   "source": [
    "b = np.arange(0,15)\n",
    "### Binomicke rozdeleni ###\n",
    "\n",
    "def binom(k, N, p):\n",
    "    return sps.comb(N,k) * p**k * (1-p)**(N-k)\n",
    "\n",
    "### Poissonovo rozdělení ###\n",
    "\n",
    "def poiss(k, v):\n",
    "    return ((v**k)/(sps.factorial(k)))*np.exp(-v)"
   ]
  },
  {
   "cell_type": "code",
   "execution_count": 7,
   "id": "f1408c39",
   "metadata": {},
   "outputs": [
    {
     "data": {
      "text/plain": [
       "0.9365272345199902"
      ]
     },
     "execution_count": 7,
     "metadata": {},
     "output_type": "execute_result"
    }
   ],
   "source": [
    "k = np.array([8,9,10])\n",
    "binom(k, 10, 0.904).sum()"
   ]
  },
  {
   "cell_type": "code",
   "execution_count": 9,
   "id": "8d46a307",
   "metadata": {},
   "outputs": [
    {
     "data": {
      "text/plain": [
       "0.3685409848335519"
      ]
     },
     "execution_count": 9,
     "metadata": {},
     "output_type": "execute_result"
    }
   ],
   "source": [
    "binom(10, 10, 0.905)"
   ]
  },
  {
   "cell_type": "code",
   "execution_count": 13,
   "id": "34320445",
   "metadata": {},
   "outputs": [
    {
     "data": {
      "text/plain": [
       "0.010940321438470813"
      ]
     },
     "execution_count": 13,
     "metadata": {},
     "output_type": "execute_result"
    }
   ],
   "source": [
    "p3= 0.1e-2\n",
    "p1=0.904\n",
    "p = (p3)/(p3+p1)\n",
    "binom(1,10,p)"
   ]
  },
  {
   "cell_type": "code",
   "execution_count": 14,
   "id": "51a1be2e",
   "metadata": {},
   "outputs": [
    {
     "data": {
      "text/plain": [
       "0.0011049723756906078"
      ]
     },
     "execution_count": 14,
     "metadata": {},
     "output_type": "execute_result"
    }
   ],
   "source": [
    "p"
   ]
  },
  {
   "cell_type": "code",
   "execution_count": 3,
   "id": "7ed61339",
   "metadata": {
    "collapsed": true
   },
   "outputs": [
    {
     "data": {
      "text/plain": [
       "[<matplotlib.lines.Line2D at 0x18e6c440988>]"
      ]
     },
     "execution_count": 3,
     "metadata": {},
     "output_type": "execute_result"
    },
    {
     "data": {
      "image/png": "[encoded data removed]",
      "text/plain": [
       "<Figure size 432x288 with 1 Axes>"
      ]
     },
     "metadata": {
      "needs_background": "light"
     },
     "output_type": "display_data"
    }
   ],
   "source": [
    "plt.plot(a,prob(a,mu=0,sigma=1))"
   ]
  },
  {
   "cell_type": "code",
   "execution_count": 4,
   "id": "4c311950",
   "metadata": {
    "collapsed": true
   },
   "outputs": [
    {
     "data": {
      "text/plain": [
       "[<matplotlib.lines.Line2D at 0x18e6cf218c8>]"
      ]
     },
     "execution_count": 4,
     "metadata": {},
     "output_type": "execute_result"
    },
    {
     "data": {
      "image/png": "[encoded data removed]",
      "text/plain": [
       "<Figure size 432x288 with 1 Axes>"
      ]
     },
     "metadata": {
      "needs_background": "light"
     },
     "output_type": "display_data"
    }
   ],
   "source": [
    "plt.plot(a,dist(a))"
   ]
  },
  {
   "cell_type": "code",
   "execution_count": 5,
   "id": "11865506",
   "metadata": {
    "collapsed": true
   },
   "outputs": [
    {
     "data": {
      "text/plain": [
       "[<matplotlib.lines.Line2D at 0x18e6cfacb48>]"
      ]
     },
     "execution_count": 5,
     "metadata": {},
     "output_type": "execute_result"
    },
    {
     "data": {
      "image/png": "[encoded data removed]",
      "text/plain": [
       "<Figure size 432x288 with 1 Axes>"
      ]
     },
     "metadata": {
      "needs_background": "light"
     },
     "output_type": "display_data"
    }
   ],
   "source": [
    "plt.plot(a,cprob(a))"
   ]
  },
  {
   "cell_type": "code",
   "execution_count": 6,
   "id": "9d3c6bd3",
   "metadata": {
    "collapsed": true
   },
   "outputs": [
    {
     "data": {
      "text/plain": [
       "[<matplotlib.lines.Line2D at 0x18e6d01af48>]"
      ]
     },
     "execution_count": 6,
     "metadata": {},
     "output_type": "execute_result"
    },
    {
     "data": {
      "image/png": "[encoded data removed]",
      "text/plain": [
       "<Figure size 432x288 with 1 Axes>"
      ]
     },
     "metadata": {
      "needs_background": "light"
     },
     "output_type": "display_data"
    }
   ],
   "source": [
    "plt.plot(a,cdist(a))"
   ]
  },
  {
   "cell_type": "code",
   "execution_count": 8,
   "id": "6c59d77a",
   "metadata": {},
   "outputs": [
    {
     "data": {
      "text/plain": [
       "0.17619705200195312"
      ]
     },
     "execution_count": 8,
     "metadata": {},
     "output_type": "execute_result"
    }
   ],
   "source": [
    "#     k  N   p\n",
    "binom(10,20,0.5)"
   ]
  },
  {
   "cell_type": "code",
   "execution_count": 12,
   "id": "d556d8a8",
   "metadata": {},
   "outputs": [
    {
     "data": {
      "text/plain": [
       "0.012740638735861376"
      ]
     },
     "execution_count": 12,
     "metadata": {},
     "output_type": "execute_result"
    }
   ],
   "source": [
    "#     k  v\n",
    "poiss(5,12)"
   ]
  },
  {
   "cell_type": "code",
   "execution_count": 29,
   "id": "243e87d8",
   "metadata": {
    "collapsed": true
   },
   "outputs": [
    {
     "data": {
      "text/plain": [
       "[<matplotlib.lines.Line2D at 0x18e6ecc83c8>]"
      ]
     },
     "execution_count": 29,
     "metadata": {},
     "output_type": "execute_result"
    },
    {
     "data": {
      "image/png": "[encoded data removed]",
      "text/plain": [
       "<Figure size 432x288 with 1 Axes>"
      ]
     },
     "metadata": {
      "needs_background": "light"
     },
     "output_type": "display_data"
    }
   ],
   "source": [
    "plt.plot(b, binom(b, 20, 0.5),'o')"
   ]
  },
  {
   "cell_type": "code",
   "execution_count": 41,
   "id": "77787b4c",
   "metadata": {
    "collapsed": true
   },
   "outputs": [
    {
     "data": {
      "text/plain": [
       "[<matplotlib.lines.Line2D at 0x18e70343b88>]"
      ]
     },
     "execution_count": 41,
     "metadata": {},
     "output_type": "execute_result"
    },
    {
     "data": {
      "image/png": "[encoded data removed]",
      "text/plain": [
       "<Figure size 432x288 with 1 Axes>"
      ]
     },
     "metadata": {
      "needs_background": "light"
     },
     "output_type": "display_data"
    }
   ],
   "source": [
    "plt.plot(b, poiss(b, 11),'o') #### WATCHOUT FOR OVERFLOW!!!!!!"
   ]
  },
  {
   "cell_type": "code",
   "execution_count": null,
   "id": "c09da332",
   "metadata": {},
   "outputs": [],
   "source": [
    "### NP.ARANGE(A,B) A-davat od nuly kdyz ma byt od nuly; B-neni zahrnuto!!!!"
   ]
  },
  {
   "cell_type": "code",
   "execution_count": null,
   "id": "5b4361f3",
   "metadata": {},
   "outputs": [],
   "source": []
  },
  {
   "cell_type": "code",
   "execution_count": 18,
   "id": "0f78fa7e",
   "metadata": {},
   "outputs": [
    {
     "data": {
      "text/plain": [
       "5.98736939238379e-11"
      ]
     },
     "execution_count": 18,
     "metadata": {},
     "output_type": "execute_result"
    }
   ],
   "source": [
    "binom(10,10,9.5e-2)"
   ]
  }
 ],
 "metadata": {
  "kernelspec": {
   "display_name": "Python 3",
   "language": "python",
   "name": "python3"
  },
  "language_info": {
   "codemirror_mode": {
    "name": "ipython",
    "version": 3
   },
   "file_extension": ".py",
   "mimetype": "text/x-python",
   "name": "python",
   "nbconvert_exporter": "python",
   "pygments_lexer": "ipython3",
   "version": "3.9.1"
  }
 },
 "nbformat": 4,
 "nbformat_minor": 5
}
