{
 "cells": [
  {
   "cell_type": "code",
   "execution_count": 1,
   "id": "c080ab0a",
   "metadata": {},
   "outputs": [],
   "source": [
    "## Libraries to import\n",
    "import scipy.special as sps\n",
    "import numpy as np\n",
    "import math\n",
    "from matplotlib import pyplot as plt\n",
    "\n",
    "# Array for testing\n",
    "a = np.arange(-5,5,0.05)\n",
    "# Sample data\n",
    "d = [178,176,171,164,171,164,159,163,160,170,181,153]"
   ]
  },
  {
   "cell_type": "code",
   "execution_count": 2,
   "id": "08a77025",
   "metadata": {},
   "outputs": [],
   "source": [
    "def dist(x, mu = 0, sigma = 1):\n",
    "    return 0.5 * (1 + sps.erf((x-mu)/(np.sqrt(2*sigma**2)))) \n",
    "def analyze(data, p=0.05):\n",
    "    x_mean = np.mean(data)\n",
    "    sigma_one = np.std(data, ddof=1)\n",
    "    print('result = ('+str(x_mean)+'+-'+str(sigma_one/np.sqrt(len(data)))+')unit')\n",
    "    print('single measurement std = '+str(sigma_one)+' unit')\n",
    "    abs_dev = abs(data-x_mean)\n",
    "    \n",
    "    npdata = np.array(data)\n",
    "    twosigma = abs_dev<sigma_one*2\n",
    "    twosigmapass = np.sum(twosigma)==len(data)\n",
    "    twosigma = npdata[twosigma]\n",
    "    \n",
    "    threesigma = abs_dev<sigma_one*3\n",
    "    threesigmapass =  np.sum(threesigma)==len(data)\n",
    "    threesigma = npdata[threesigma]\n",
    "    \n",
    "    probs = dist(npdata, x_mean, sigma_one)\n",
    "    phalf = p/2\n",
    "    \n",
    "    aa= np.array(p<probs).astype(int)\n",
    "    bb = np.array(probs<(1-p)).astype(int)\n",
    "    ptwosided = (np.floor((aa+bb)/2).astype(bool))\n",
    "    ptwosidedpass = np.sum(ptwosided)==len(data)\n",
    "    ptwosided = npdata[ptwosided]\n",
    "    \n",
    "    aa= np.array(phalf<probs).astype(int)\n",
    "    bb = np.array(probs<(1-phalf)).astype(int)\n",
    "    ponesided = (np.floor((aa+bb)/2).astype(bool))\n",
    "    ponesidedpass = np.sum(ponesided)==len(data)\n",
    "    ponesided = npdata[ponesided]\n",
    "    \n",
    "    \n",
    "    print('meets 2 sigma criterium: ' + str(twosigmapass))\n",
    "    print(twosigma)\n",
    "    print('meets 3 sigma criterium: ' + str(threesigmapass))\n",
    "    print(threesigma)\n",
    "    print('meets double sided p criterium: ' + str(ptwosidedpass))\n",
    "    print(ptwosided)\n",
    "    print('meets single sided p criterium: ' + str(ponesidedpass))\n",
    "    print(ponesided)\n",
    "    \n",
    "\n",
    "    return x_mean, sigma_one, sigma_one/np.sqrt(len(data)), twosigma, threesigma, ptwosided, ponesided\n"
   ]
  },
  {
   "cell_type": "markdown",
   "id": "6e099f7a",
   "metadata": {},
   "source": [
    "__WAVES DATA__"
   ]
  },
  {
   "cell_type": "code",
   "execution_count": 86,
   "id": "230ed4bc",
   "metadata": {},
   "outputs": [],
   "source": [
    "import scipy.io\n",
    "a = scipy.io.loadmat(\"wave lagsv2.mat\")\n",
    "lags = a[\"lags\"]"
   ]
  },
  {
   "cell_type": "code",
   "execution_count": 40,
   "id": "6c25a536",
   "metadata": {},
   "outputs": [],
   "source": [
    "lsr = 24576\n",
    "lsp = 1/lsr"
   ]
  },
  {
   "cell_type": "code",
   "execution_count": 34,
   "id": "8e4152d5",
   "metadata": {
    "scrolled": true
   },
   "outputs": [
    {
     "name": "stdout",
     "output_type": "stream",
     "text": [
      "result = (-0.00010777835011300273+-7.358958171928993e-06)unit\n",
      "single measurement std = 7.01999868179065e-05 unit\n",
      "meets 2 sigma criterium: False\n",
      "[-2.28887511e-05 -4.57775023e-05 -5.34070860e-05 -9.53697964e-05\n",
      " -6.10366697e-05 -3.05183348e-05 -1.29702923e-04 -2.09813552e-04\n",
      " -1.37332507e-04 -1.83110009e-04 -2.05998760e-04 -1.94554385e-04\n",
      " -2.05998760e-04 -3.81479186e-05  0.00000000e+00 -6.10366697e-05\n",
      " -5.72218778e-05 -2.05998760e-04  7.62958371e-06 -1.14443756e-05\n",
      " -1.64036050e-04 -4.95922941e-05  3.81479186e-06 -4.19627104e-05\n",
      " -1.48776882e-04 -3.81479186e-05 -6.86662534e-05 -6.48514615e-05\n",
      " -1.14443756e-04 -9.53697964e-05 -4.95922941e-05 -1.10628964e-04\n",
      " -8.77402127e-05 -1.94554385e-04 -5.34070860e-05 -1.64036050e-04\n",
      " -2.67035430e-05 -2.17443136e-04 -2.05998760e-04 -9.53697964e-05\n",
      " -1.44962091e-04 -1.33517715e-04 -5.72218778e-05 -1.52591674e-05\n",
      "  3.81479186e-06 -1.60221258e-04 -1.90739593e-04 -2.17443136e-04\n",
      " -4.57775023e-05 -1.33517715e-04 -8.01106290e-05 -1.22073339e-04\n",
      " -1.14443756e-04 -2.47961471e-04  2.67035430e-05 -7.24810453e-05\n",
      " -4.95922941e-05  7.62958371e-06 -1.41147299e-04 -4.95922941e-05\n",
      " -1.71665633e-04  0.00000000e+00 -1.60221258e-04 -1.29702923e-04\n",
      " -1.25888131e-04 -4.57775023e-05 -7.62958371e-05 -2.13628344e-04\n",
      " -1.71665633e-04 -1.22073339e-04 -4.19627104e-05 -1.79295217e-04\n",
      " -1.18258548e-04  0.00000000e+00 -1.86924801e-04 -1.56406466e-04\n",
      " -1.52591674e-04 -8.77402127e-05 -1.14443756e-04 -9.15550045e-05\n",
      " -1.18258548e-04 -1.83110009e-04 -8.77402127e-05 -1.25888131e-04\n",
      " -1.25888131e-04 -1.06814172e-04 -1.41147299e-04 -6.10366697e-05\n",
      " -1.56406466e-04 -1.75480425e-04]\n",
      "meets 3 sigma criterium: True\n",
      "[-2.28887511e-05 -4.57775023e-05 -5.34070860e-05 -9.53697964e-05\n",
      " -6.10366697e-05 -3.05183348e-05 -1.29702923e-04 -2.09813552e-04\n",
      " -1.37332507e-04 -1.83110009e-04 -2.05998760e-04 -1.94554385e-04\n",
      " -2.05998760e-04 -3.81479186e-05  0.00000000e+00 -6.10366697e-05\n",
      " -5.72218778e-05 -2.05998760e-04  7.62958371e-06 -1.14443756e-05\n",
      " -1.64036050e-04 -4.95922941e-05  3.81479186e-06 -4.19627104e-05\n",
      " -1.48776882e-04 -3.81479186e-05 -6.86662534e-05 -6.48514615e-05\n",
      " -1.14443756e-04 -9.53697964e-05 -4.95922941e-05 -1.10628964e-04\n",
      " -8.77402127e-05 -1.94554385e-04 -5.34070860e-05 -1.64036050e-04\n",
      " -2.67035430e-05 -2.17443136e-04 -2.05998760e-04 -9.53697964e-05\n",
      " -1.44962091e-04 -1.33517715e-04 -5.72218778e-05 -1.52591674e-05\n",
      "  3.81479186e-06 -1.60221258e-04 -1.90739593e-04 -2.17443136e-04\n",
      " -4.57775023e-05 -1.33517715e-04 -8.01106290e-05 -1.22073339e-04\n",
      " -1.14443756e-04 -2.47961471e-04 -3.12812932e-04  2.67035430e-05\n",
      " -7.24810453e-05 -4.95922941e-05  7.62958371e-06 -1.41147299e-04\n",
      " -4.95922941e-05 -1.71665633e-04  0.00000000e+00 -1.60221258e-04\n",
      " -1.29702923e-04 -1.25888131e-04 -4.57775023e-05 -7.62958371e-05\n",
      " -2.13628344e-04 -1.71665633e-04 -1.22073339e-04 -4.19627104e-05\n",
      " -1.79295217e-04 -1.18258548e-04  0.00000000e+00 -1.86924801e-04\n",
      " -1.56406466e-04 -1.52591674e-04 -8.77402127e-05 -1.14443756e-04\n",
      " -9.15550045e-05 -1.18258548e-04 -1.83110009e-04 -8.77402127e-05\n",
      " -1.25888131e-04 -1.25888131e-04 -1.06814172e-04 -1.41147299e-04\n",
      " -6.10366697e-05 -1.56406466e-04 -1.75480425e-04]\n",
      "meets double sided p criterium: False\n",
      "[-2.28887511e-05 -4.57775023e-05 -5.34070860e-05 -9.53697964e-05\n",
      " -6.10366697e-05 -3.05183348e-05 -1.29702923e-04 -2.09813552e-04\n",
      " -1.37332507e-04 -1.83110009e-04 -2.05998760e-04 -1.94554385e-04\n",
      " -2.05998760e-04 -3.81479186e-05  0.00000000e+00 -6.10366697e-05\n",
      " -5.72218778e-05 -2.05998760e-04  7.62958371e-06 -1.14443756e-05\n",
      " -1.64036050e-04 -4.95922941e-05  3.81479186e-06 -4.19627104e-05\n",
      " -1.48776882e-04 -3.81479186e-05 -6.86662534e-05 -6.48514615e-05\n",
      " -1.14443756e-04 -9.53697964e-05 -4.95922941e-05 -1.10628964e-04\n",
      " -8.77402127e-05 -1.94554385e-04 -5.34070860e-05 -1.64036050e-04\n",
      " -2.67035430e-05 -2.17443136e-04 -2.05998760e-04 -9.53697964e-05\n",
      " -1.44962091e-04 -1.33517715e-04 -5.72218778e-05 -1.52591674e-05\n",
      "  3.81479186e-06 -1.60221258e-04 -1.90739593e-04 -2.17443136e-04\n",
      " -4.57775023e-05 -1.33517715e-04 -8.01106290e-05 -1.22073339e-04\n",
      " -1.14443756e-04 -7.24810453e-05 -4.95922941e-05  7.62958371e-06\n",
      " -1.41147299e-04 -4.95922941e-05 -1.71665633e-04  0.00000000e+00\n",
      " -1.60221258e-04 -1.29702923e-04 -1.25888131e-04 -4.57775023e-05\n",
      " -7.62958371e-05 -2.13628344e-04 -1.71665633e-04 -1.22073339e-04\n",
      " -4.19627104e-05 -1.79295217e-04 -1.18258548e-04  0.00000000e+00\n",
      " -1.86924801e-04 -1.56406466e-04 -1.52591674e-04 -8.77402127e-05\n",
      " -1.14443756e-04 -9.15550045e-05 -1.18258548e-04 -1.83110009e-04\n",
      " -8.77402127e-05 -1.25888131e-04 -1.25888131e-04 -1.06814172e-04\n",
      " -1.41147299e-04 -6.10366697e-05 -1.56406466e-04 -1.75480425e-04]\n",
      "meets single sided p criterium: False\n",
      "[-2.28887511e-05 -4.57775023e-05 -5.34070860e-05 -9.53697964e-05\n",
      " -6.10366697e-05 -3.05183348e-05 -1.29702923e-04 -2.09813552e-04\n",
      " -1.37332507e-04 -1.83110009e-04 -2.05998760e-04 -1.94554385e-04\n",
      " -2.05998760e-04 -3.81479186e-05  0.00000000e+00 -6.10366697e-05\n",
      " -5.72218778e-05 -2.05998760e-04  7.62958371e-06 -1.14443756e-05\n",
      " -1.64036050e-04 -4.95922941e-05  3.81479186e-06 -4.19627104e-05\n",
      " -1.48776882e-04 -3.81479186e-05 -6.86662534e-05 -6.48514615e-05\n",
      " -1.14443756e-04 -9.53697964e-05 -4.95922941e-05 -1.10628964e-04\n",
      " -8.77402127e-05 -1.94554385e-04 -5.34070860e-05 -1.64036050e-04\n",
      " -2.67035430e-05 -2.17443136e-04 -2.05998760e-04 -9.53697964e-05\n",
      " -1.44962091e-04 -1.33517715e-04 -5.72218778e-05 -1.52591674e-05\n",
      "  3.81479186e-06 -1.60221258e-04 -1.90739593e-04 -2.17443136e-04\n",
      " -4.57775023e-05 -1.33517715e-04 -8.01106290e-05 -1.22073339e-04\n",
      " -1.14443756e-04  2.67035430e-05 -7.24810453e-05 -4.95922941e-05\n",
      "  7.62958371e-06 -1.41147299e-04 -4.95922941e-05 -1.71665633e-04\n",
      "  0.00000000e+00 -1.60221258e-04 -1.29702923e-04 -1.25888131e-04\n",
      " -4.57775023e-05 -7.62958371e-05 -2.13628344e-04 -1.71665633e-04\n",
      " -1.22073339e-04 -4.19627104e-05 -1.79295217e-04 -1.18258548e-04\n",
      "  0.00000000e+00 -1.86924801e-04 -1.56406466e-04 -1.52591674e-04\n",
      " -8.77402127e-05 -1.14443756e-04 -9.15550045e-05 -1.18258548e-04\n",
      " -1.83110009e-04 -8.77402127e-05 -1.25888131e-04 -1.25888131e-04\n",
      " -1.06814172e-04 -1.41147299e-04 -6.10366697e-05 -1.56406466e-04\n",
      " -1.75480425e-04]\n"
     ]
    }
   ],
   "source": [
    "[_, _, _, twosigma, threesigma, _, _] = analyze(threesigma)"
   ]
  },
  {
   "cell_type": "code",
   "execution_count": 41,
   "id": "470d55a4",
   "metadata": {
    "scrolled": true
   },
   "outputs": [
    {
     "data": {
      "text/plain": [
       "[<matplotlib.lines.Line2D at 0x1b660527760>]"
      ]
     },
     "execution_count": 41,
     "metadata": {},
     "output_type": "execute_result"
    },
    {
     "data": {
      "image/png": "[encoded data removed]",
      "text/plain": [
       "<Figure size 432x288 with 1 Axes>"
      ]
     },
     "metadata": {
      "needs_background": "light"
     },
     "output_type": "display_data"
    }
   ],
   "source": [
    "plt.plot(threesigma/lsp, 'r.')"
   ]
  },
  {
   "cell_type": "code",
   "execution_count": 38,
   "id": "5cbe157a",
   "metadata": {
    "scrolled": true
   },
   "outputs": [
    {
     "name": "stdout",
     "output_type": "stream",
     "text": [
      "result = (-0.00010389949952288314+-6.970075927309746e-06)unit\n",
      "single measurement std = 6.575556478724208e-05 unit\n",
      "meets 2 sigma criterium: True\n",
      "[-2.28887511e-05 -4.57775023e-05 -5.34070860e-05 -9.53697964e-05\n",
      " -6.10366697e-05 -3.05183348e-05 -1.29702923e-04 -2.09813552e-04\n",
      " -1.37332507e-04 -1.83110009e-04 -2.05998760e-04 -1.94554385e-04\n",
      " -2.05998760e-04 -3.81479186e-05  0.00000000e+00 -6.10366697e-05\n",
      " -5.72218778e-05 -2.05998760e-04  7.62958371e-06 -1.14443756e-05\n",
      " -1.64036050e-04 -4.95922941e-05  3.81479186e-06 -4.19627104e-05\n",
      " -1.48776882e-04 -3.81479186e-05 -6.86662534e-05 -6.48514615e-05\n",
      " -1.14443756e-04 -9.53697964e-05 -4.95922941e-05 -1.10628964e-04\n",
      " -8.77402127e-05 -1.94554385e-04 -5.34070860e-05 -1.64036050e-04\n",
      " -2.67035430e-05 -2.17443136e-04 -2.05998760e-04 -9.53697964e-05\n",
      " -1.44962091e-04 -1.33517715e-04 -5.72218778e-05 -1.52591674e-05\n",
      "  3.81479186e-06 -1.60221258e-04 -1.90739593e-04 -2.17443136e-04\n",
      " -4.57775023e-05 -1.33517715e-04 -8.01106290e-05 -1.22073339e-04\n",
      " -1.14443756e-04  2.67035430e-05 -7.24810453e-05 -4.95922941e-05\n",
      "  7.62958371e-06 -1.41147299e-04 -4.95922941e-05 -1.71665633e-04\n",
      "  0.00000000e+00 -1.60221258e-04 -1.29702923e-04 -1.25888131e-04\n",
      " -4.57775023e-05 -7.62958371e-05 -2.13628344e-04 -1.71665633e-04\n",
      " -1.22073339e-04 -4.19627104e-05 -1.79295217e-04 -1.18258548e-04\n",
      "  0.00000000e+00 -1.86924801e-04 -1.56406466e-04 -1.52591674e-04\n",
      " -8.77402127e-05 -1.14443756e-04 -9.15550045e-05 -1.18258548e-04\n",
      " -1.83110009e-04 -8.77402127e-05 -1.25888131e-04 -1.25888131e-04\n",
      " -1.06814172e-04 -1.41147299e-04 -6.10366697e-05 -1.56406466e-04\n",
      " -1.75480425e-04]\n",
      "meets 3 sigma criterium: True\n",
      "[-2.28887511e-05 -4.57775023e-05 -5.34070860e-05 -9.53697964e-05\n",
      " -6.10366697e-05 -3.05183348e-05 -1.29702923e-04 -2.09813552e-04\n",
      " -1.37332507e-04 -1.83110009e-04 -2.05998760e-04 -1.94554385e-04\n",
      " -2.05998760e-04 -3.81479186e-05  0.00000000e+00 -6.10366697e-05\n",
      " -5.72218778e-05 -2.05998760e-04  7.62958371e-06 -1.14443756e-05\n",
      " -1.64036050e-04 -4.95922941e-05  3.81479186e-06 -4.19627104e-05\n",
      " -1.48776882e-04 -3.81479186e-05 -6.86662534e-05 -6.48514615e-05\n",
      " -1.14443756e-04 -9.53697964e-05 -4.95922941e-05 -1.10628964e-04\n",
      " -8.77402127e-05 -1.94554385e-04 -5.34070860e-05 -1.64036050e-04\n",
      " -2.67035430e-05 -2.17443136e-04 -2.05998760e-04 -9.53697964e-05\n",
      " -1.44962091e-04 -1.33517715e-04 -5.72218778e-05 -1.52591674e-05\n",
      "  3.81479186e-06 -1.60221258e-04 -1.90739593e-04 -2.17443136e-04\n",
      " -4.57775023e-05 -1.33517715e-04 -8.01106290e-05 -1.22073339e-04\n",
      " -1.14443756e-04  2.67035430e-05 -7.24810453e-05 -4.95922941e-05\n",
      "  7.62958371e-06 -1.41147299e-04 -4.95922941e-05 -1.71665633e-04\n",
      "  0.00000000e+00 -1.60221258e-04 -1.29702923e-04 -1.25888131e-04\n",
      " -4.57775023e-05 -7.62958371e-05 -2.13628344e-04 -1.71665633e-04\n",
      " -1.22073339e-04 -4.19627104e-05 -1.79295217e-04 -1.18258548e-04\n",
      "  0.00000000e+00 -1.86924801e-04 -1.56406466e-04 -1.52591674e-04\n",
      " -8.77402127e-05 -1.14443756e-04 -9.15550045e-05 -1.18258548e-04\n",
      " -1.83110009e-04 -8.77402127e-05 -1.25888131e-04 -1.25888131e-04\n",
      " -1.06814172e-04 -1.41147299e-04 -6.10366697e-05 -1.56406466e-04\n",
      " -1.75480425e-04]\n",
      "meets double sided p criterium: False\n",
      "[-2.28887511e-05 -4.57775023e-05 -5.34070860e-05 -9.53697964e-05\n",
      " -6.10366697e-05 -3.05183348e-05 -1.29702923e-04 -2.09813552e-04\n",
      " -1.37332507e-04 -1.83110009e-04 -2.05998760e-04 -1.94554385e-04\n",
      " -2.05998760e-04 -3.81479186e-05  0.00000000e+00 -6.10366697e-05\n",
      " -5.72218778e-05 -2.05998760e-04 -1.14443756e-05 -1.64036050e-04\n",
      " -4.95922941e-05  3.81479186e-06 -4.19627104e-05 -1.48776882e-04\n",
      " -3.81479186e-05 -6.86662534e-05 -6.48514615e-05 -1.14443756e-04\n",
      " -9.53697964e-05 -4.95922941e-05 -1.10628964e-04 -8.77402127e-05\n",
      " -1.94554385e-04 -5.34070860e-05 -1.64036050e-04 -2.67035430e-05\n",
      " -2.05998760e-04 -9.53697964e-05 -1.44962091e-04 -1.33517715e-04\n",
      " -5.72218778e-05 -1.52591674e-05  3.81479186e-06 -1.60221258e-04\n",
      " -1.90739593e-04 -4.57775023e-05 -1.33517715e-04 -8.01106290e-05\n",
      " -1.22073339e-04 -1.14443756e-04 -7.24810453e-05 -4.95922941e-05\n",
      " -1.41147299e-04 -4.95922941e-05 -1.71665633e-04  0.00000000e+00\n",
      " -1.60221258e-04 -1.29702923e-04 -1.25888131e-04 -4.57775023e-05\n",
      " -7.62958371e-05 -1.71665633e-04 -1.22073339e-04 -4.19627104e-05\n",
      " -1.79295217e-04 -1.18258548e-04  0.00000000e+00 -1.86924801e-04\n",
      " -1.56406466e-04 -1.52591674e-04 -8.77402127e-05 -1.14443756e-04\n",
      " -9.15550045e-05 -1.18258548e-04 -1.83110009e-04 -8.77402127e-05\n",
      " -1.25888131e-04 -1.25888131e-04 -1.06814172e-04 -1.41147299e-04\n",
      " -6.10366697e-05 -1.56406466e-04 -1.75480425e-04]\n",
      "meets single sided p criterium: False\n",
      "[-2.28887511e-05 -4.57775023e-05 -5.34070860e-05 -9.53697964e-05\n",
      " -6.10366697e-05 -3.05183348e-05 -1.29702923e-04 -2.09813552e-04\n",
      " -1.37332507e-04 -1.83110009e-04 -2.05998760e-04 -1.94554385e-04\n",
      " -2.05998760e-04 -3.81479186e-05  0.00000000e+00 -6.10366697e-05\n",
      " -5.72218778e-05 -2.05998760e-04  7.62958371e-06 -1.14443756e-05\n",
      " -1.64036050e-04 -4.95922941e-05  3.81479186e-06 -4.19627104e-05\n",
      " -1.48776882e-04 -3.81479186e-05 -6.86662534e-05 -6.48514615e-05\n",
      " -1.14443756e-04 -9.53697964e-05 -4.95922941e-05 -1.10628964e-04\n",
      " -8.77402127e-05 -1.94554385e-04 -5.34070860e-05 -1.64036050e-04\n",
      " -2.67035430e-05 -2.17443136e-04 -2.05998760e-04 -9.53697964e-05\n",
      " -1.44962091e-04 -1.33517715e-04 -5.72218778e-05 -1.52591674e-05\n",
      "  3.81479186e-06 -1.60221258e-04 -1.90739593e-04 -2.17443136e-04\n",
      " -4.57775023e-05 -1.33517715e-04 -8.01106290e-05 -1.22073339e-04\n",
      " -1.14443756e-04 -7.24810453e-05 -4.95922941e-05  7.62958371e-06\n",
      " -1.41147299e-04 -4.95922941e-05 -1.71665633e-04  0.00000000e+00\n",
      " -1.60221258e-04 -1.29702923e-04 -1.25888131e-04 -4.57775023e-05\n",
      " -7.62958371e-05 -2.13628344e-04 -1.71665633e-04 -1.22073339e-04\n",
      " -4.19627104e-05 -1.79295217e-04 -1.18258548e-04  0.00000000e+00\n",
      " -1.86924801e-04 -1.56406466e-04 -1.52591674e-04 -8.77402127e-05\n",
      " -1.14443756e-04 -9.15550045e-05 -1.18258548e-04 -1.83110009e-04\n",
      " -8.77402127e-05 -1.25888131e-04 -1.25888131e-04 -1.06814172e-04\n",
      " -1.41147299e-04 -6.10366697e-05 -1.56406466e-04 -1.75480425e-04]\n"
     ]
    }
   ],
   "source": [
    "[_, _, _, twosigma, _, _, _] = analyze(twosigma)"
   ]
  },
  {
   "cell_type": "code",
   "execution_count": 42,
   "id": "d52a2e94",
   "metadata": {},
   "outputs": [
    {
     "data": {
      "text/plain": [
       "[<matplotlib.lines.Line2D at 0x1b660580fd0>]"
      ]
     },
     "execution_count": 42,
     "metadata": {},
     "output_type": "execute_result"
    },
    {
     "data": {
      "image/png": "[encoded data removed]",
      "text/plain": [
       "<Figure size 432x288 with 1 Axes>"
      ]
     },
     "metadata": {
      "needs_background": "light"
     },
     "output_type": "display_data"
    }
   ],
   "source": [
    "plt.plot(twosigma/lsp, 'b.')"
   ]
  },
  {
   "cell_type": "code",
   "execution_count": 48,
   "id": "912de2b9",
   "metadata": {},
   "outputs": [
    {
     "name": "stdout",
     "output_type": "stream",
     "text": [
      "Two sigma mean: -2.5534341002743752\n",
      "Two sigma std: 1.6160087602112614\n",
      "Three sigma mean: -2.648760732377155\n",
      "Three sigma std: 1.7252348760368694\n"
     ]
    }
   ],
   "source": [
    "print('Two sigma mean: ' + str(np.mean(twosigma/lsp)))\n",
    "print('Two sigma std: ' + str(np.std(twosigma/lsp,ddof=1)))\n",
    "\n",
    "print('Three sigma mean: ' + str(np.mean(threesigma/lsp)))\n",
    "print('Three sigma std: ' + str(np.std(threesigma/lsp,ddof=1)))"
   ]
  },
  {
   "cell_type": "markdown",
   "id": "e0996822",
   "metadata": {},
   "source": [
    "__DUST DATA__"
   ]
  },
  {
   "cell_type": "code",
   "execution_count": 50,
   "id": "96f691c7",
   "metadata": {},
   "outputs": [],
   "source": [
    "import scipy.io\n",
    "a = scipy.io.loadmat(\"dust lagsv2.mat\")\n",
    "dust_lags = a[\"dust_lags\"]\n",
    "lsr = 24576\n",
    "lsp = 1/lsr"
   ]
  },
  {
   "cell_type": "code",
   "execution_count": 78,
   "id": "f8c1a62e",
   "metadata": {
    "scrolled": true
   },
   "outputs": [
    {
     "name": "stdout",
     "output_type": "stream",
     "text": [
      "result = (-0.00044749627792877995+-6.703240973520652e-05)unit\n",
      "single measurement std = 0.000284394428898238 unit\n",
      "meets 2 sigma criterium: True\n",
      "[-3.16627724e-04 -5.91292738e-04 -3.37609079e-04 -8.27809833e-04\n",
      " -3.05183348e-05 -5.32163464e-04 -9.21272233e-04 -5.18811692e-04\n",
      " -9.53697964e-05  2.67035430e-05 -9.42253588e-04 -5.79848362e-04\n",
      " -3.31886891e-04 -5.14996900e-04 -4.38701063e-04 -1.29702923e-04\n",
      " -6.21811072e-04 -3.50960851e-04]\n",
      "meets 3 sigma criterium: True\n",
      "[-3.16627724e-04 -5.91292738e-04 -3.37609079e-04 -8.27809833e-04\n",
      " -3.05183348e-05 -5.32163464e-04 -9.21272233e-04 -5.18811692e-04\n",
      " -9.53697964e-05  2.67035430e-05 -9.42253588e-04 -5.79848362e-04\n",
      " -3.31886891e-04 -5.14996900e-04 -4.38701063e-04 -1.29702923e-04\n",
      " -6.21811072e-04 -3.50960851e-04]\n",
      "meets double sided p criterium: False\n",
      "[-3.16627724e-04 -5.91292738e-04 -3.37609079e-04 -8.27809833e-04\n",
      " -3.05183348e-05 -5.32163464e-04 -5.18811692e-04 -9.53697964e-05\n",
      " -5.79848362e-04 -3.31886891e-04 -5.14996900e-04 -4.38701063e-04\n",
      " -1.29702923e-04 -6.21811072e-04 -3.50960851e-04]\n",
      "meets single sided p criterium: True\n",
      "[-3.16627724e-04 -5.91292738e-04 -3.37609079e-04 -8.27809833e-04\n",
      " -3.05183348e-05 -5.32163464e-04 -9.21272233e-04 -5.18811692e-04\n",
      " -9.53697964e-05  2.67035430e-05 -9.42253588e-04 -5.79848362e-04\n",
      " -3.31886891e-04 -5.14996900e-04 -4.38701063e-04 -1.29702923e-04\n",
      " -6.21811072e-04 -3.50960851e-04]\n"
     ]
    }
   ],
   "source": [
    "[IIImu, IIIsigma, IIIsig, twosigma, threesigma, _, _] = analyze(threesigma)"
   ]
  },
  {
   "cell_type": "code",
   "execution_count": 83,
   "id": "e4fbf1e7",
   "metadata": {},
   "outputs": [
    {
     "name": "stdout",
     "output_type": "stream",
     "text": [
      "Three/two sigma mean: -10.997668526377698\n",
      "Three/two sigma std: 6.989277484603098\n"
     ]
    }
   ],
   "source": [
    "print('Three/two sigma mean: ' + str(np.mean(threesigma/lsp)))\n",
    "print('Three/two sigma std: ' + str(np.std(threesigma/lsp,ddof=1)))"
   ]
  },
  {
   "cell_type": "code",
   "execution_count": 79,
   "id": "dbe5ef2e",
   "metadata": {},
   "outputs": [
    {
     "data": {
      "text/plain": [
       "[<matplotlib.lines.Line2D at 0x1b661824e80>]"
      ]
     },
     "execution_count": 79,
     "metadata": {},
     "output_type": "execute_result"
    },
    {
     "data": {
      "image/png": "[encoded data removed]",
      "text/plain": [
       "<Figure size 432x288 with 1 Axes>"
      ]
     },
     "metadata": {
      "needs_background": "light"
     },
     "output_type": "display_data"
    }
   ],
   "source": [
    "plt.plot(threesigma/lsp, 'r.')"
   ]
  },
  {
   "cell_type": "code",
   "execution_count": 75,
   "id": "0df9fc6e",
   "metadata": {},
   "outputs": [],
   "source": [
    "dlags = []\n",
    "for i in dust_lags[0]:\n",
    "    if i>-1:\n",
    "        dlags.append(i)"
   ]
  },
  {
   "cell_type": "code",
   "execution_count": null,
   "id": "93f84ff3",
   "metadata": {},
   "outputs": [],
   "source": []
  },
  {
   "cell_type": "markdown",
   "id": "8acdf8da",
   "metadata": {},
   "source": [
    "__ALL DATA__"
   ]
  },
  {
   "cell_type": "code",
   "execution_count": 98,
   "id": "b2a928b4",
   "metadata": {},
   "outputs": [],
   "source": [
    "a = scipy.io.loadmat(\"wave lagsv2.mat\")\n",
    "lags = a[\"lags\"][0]\n",
    "data = np.array(lags.tolist() + dlags)"
   ]
  },
  {
   "cell_type": "code",
   "execution_count": 99,
   "id": "767d2359",
   "metadata": {},
   "outputs": [
    {
     "data": {
      "text/plain": [
       "[<matplotlib.lines.Line2D at 0x1b661e95430>]"
      ]
     },
     "execution_count": 99,
     "metadata": {},
     "output_type": "execute_result"
    },
    {
     "data": {
      "image/png": "[encoded data removed]",
      "text/plain": [
       "<Figure size 432x288 with 1 Axes>"
      ]
     },
     "metadata": {
      "needs_background": "light"
     },
     "output_type": "display_data"
    }
   ],
   "source": [
    "plt.plot(data, 'r.')"
   ]
  },
  {
   "cell_type": "code",
   "execution_count": 103,
   "id": "8f90996b",
   "metadata": {
    "collapsed": true
   },
   "outputs": [
    {
     "name": "stdout",
     "output_type": "stream",
     "text": [
      "result = (-0.00020707080023960796+-5.952056548465814e-05)unit\n",
      "single measurement std = 0.0006966703575142598 unit\n",
      "meets 2 sigma criterium: False\n",
      "[-2.28887511e-05 -4.57775023e-05 -5.34070860e-05 -9.53697964e-05\n",
      " -6.10366697e-05 -3.05183348e-05 -5.56959611e-04 -1.29702923e-04\n",
      "  1.79295217e-04 -5.18811692e-04 -2.09813552e-04 -1.37332507e-04\n",
      " -1.83110009e-04 -2.05998760e-04 -1.94554385e-04  1.86924801e-04\n",
      " -2.05998760e-04 -3.81479186e-05  0.00000000e+00 -6.10366697e-05\n",
      " -5.72218778e-05 -2.05998760e-04  7.62958371e-06 -1.14443756e-05\n",
      " -1.64036050e-04 -4.95922941e-05  3.81479186e-06 -4.19627104e-05\n",
      " -1.48776882e-04 -3.81479186e-05 -6.86662534e-05 -6.48514615e-05\n",
      " -1.14443756e-04 -9.53697964e-05 -4.95922941e-05 -1.10628964e-04\n",
      " -8.77402127e-05 -1.94554385e-04 -9.38438796e-04 -5.34070860e-05\n",
      " -1.64036050e-04 -2.67035430e-05  2.40331887e-04 -2.17443136e-04\n",
      " -2.05998760e-04 -9.53697964e-05 -1.44962091e-04 -1.33517715e-04\n",
      " -5.72218778e-05 -7.93476706e-04 -1.52591674e-05  3.81479186e-06\n",
      " -8.31624624e-04 -1.60221258e-04 -9.57512756e-04 -9.00290878e-04\n",
      " -1.90739593e-04 -2.17443136e-04 -4.19627104e-04 -4.57775023e-05\n",
      " -1.33517715e-04 -8.01106290e-05 -1.22073339e-04 -1.14443756e-04\n",
      " -2.47961471e-04 -5.72218778e-04 -3.12812932e-04  2.67035430e-05\n",
      " -7.24810453e-05 -4.95922941e-05  7.62958371e-06 -1.41147299e-04\n",
      " -1.03380859e-03 -4.95922941e-05 -1.71665633e-04  0.00000000e+00\n",
      " -1.60221258e-04 -1.29702923e-04 -6.21811072e-04 -3.54775643e-04\n",
      " -1.25888131e-04 -8.69772543e-04 -4.57775023e-05 -7.62958371e-05\n",
      " -2.13628344e-04 -1.71665633e-04 -1.22073339e-04 -9.99475466e-04\n",
      " -4.19627104e-05 -9.07920462e-04 -1.79295217e-04 -1.18258548e-04\n",
      " -3.50960851e-04  0.00000000e+00 -1.86924801e-04 -1.56406466e-04\n",
      " -1.52591674e-04 -4.27256688e-04 -8.77402127e-05 -1.14443756e-04\n",
      " -9.15550045e-05 -1.18258548e-04 -1.83110009e-04 -8.77402127e-05\n",
      " -1.25888131e-04 -1.25888131e-04 -8.65957751e-04 -1.06814172e-04\n",
      " -1.41147299e-04 -6.10366697e-05 -5.83663154e-04 -1.56406466e-04\n",
      " -5.26441276e-04 -1.75480425e-04 -3.16627724e-04 -5.91292738e-04\n",
      " -3.37609079e-04 -8.27809833e-04 -3.05183348e-05 -5.32163464e-04\n",
      " -9.21272233e-04 -5.18811692e-04 -9.53697964e-05  2.67035430e-05\n",
      " -9.42253588e-04 -5.79848362e-04 -3.31886891e-04 -5.14996900e-04\n",
      " -4.38701063e-04 -1.29702923e-04 -6.21811072e-04 -3.50960851e-04]\n",
      "meets 3 sigma criterium: False\n",
      "[-2.28887511e-05 -4.57775023e-05 -2.09432073e-03 -5.34070860e-05\n",
      " -9.53697964e-05 -6.10366697e-05 -3.05183348e-05 -5.56959611e-04\n",
      " -1.29702923e-04  1.79295217e-04 -5.18811692e-04 -2.09813552e-04\n",
      " -1.37332507e-04 -1.83110009e-04 -2.05998760e-04 -1.94554385e-04\n",
      "  1.86924801e-04 -2.05998760e-04 -3.81479186e-05  0.00000000e+00\n",
      " -6.10366697e-05 -5.72218778e-05 -2.05998760e-04  7.62958371e-06\n",
      " -1.14443756e-05 -1.64036050e-04 -4.95922941e-05  3.81479186e-06\n",
      " -4.19627104e-05 -1.48776882e-04 -3.81479186e-05 -6.86662534e-05\n",
      " -6.48514615e-05 -1.14443756e-04 -9.53697964e-05 -4.95922941e-05\n",
      " -1.10628964e-04 -8.77402127e-05 -1.94554385e-04 -9.38438796e-04\n",
      " -5.34070860e-05 -1.64036050e-04 -2.67035430e-05  2.40331887e-04\n",
      " -2.17443136e-04 -2.05998760e-04 -9.53697964e-05 -1.44962091e-04\n",
      " -1.33517715e-04 -5.72218778e-05 -7.93476706e-04 -1.52591674e-05\n",
      "  3.81479186e-06 -8.31624624e-04 -1.60221258e-04 -9.57512756e-04\n",
      " -9.00290878e-04 -1.90739593e-04 -2.17443136e-04 -4.19627104e-04\n",
      " -4.57775023e-05 -1.33517715e-04 -8.01106290e-05 -1.22073339e-04\n",
      " -1.14443756e-04 -2.47961471e-04 -5.72218778e-04 -3.12812932e-04\n",
      "  2.67035430e-05 -7.24810453e-05 -4.95922941e-05  7.62958371e-06\n",
      " -1.41147299e-04 -1.03380859e-03 -4.95922941e-05 -1.71665633e-04\n",
      "  0.00000000e+00 -1.60221258e-04 -1.29702923e-04 -6.21811072e-04\n",
      " -3.54775643e-04 -1.25888131e-04 -8.69772543e-04 -4.57775023e-05\n",
      " -7.62958371e-05 -2.13628344e-04 -1.71665633e-04 -1.22073339e-04\n",
      " -9.99475466e-04 -4.19627104e-05 -9.07920462e-04 -1.79295217e-04\n",
      " -1.18258548e-04 -3.50960851e-04  0.00000000e+00 -1.86924801e-04\n",
      " -1.56406466e-04 -1.52591674e-04 -4.27256688e-04 -8.77402127e-05\n",
      " -1.14443756e-04 -9.15550045e-05 -1.18258548e-04 -1.83110009e-04\n",
      " -8.77402127e-05 -1.25888131e-04 -1.25888131e-04 -8.65957751e-04\n",
      " -1.06814172e-04 -1.41147299e-04 -6.10366697e-05 -2.10957990e-03\n",
      " -5.83663154e-04 -1.56406466e-04 -5.26441276e-04 -1.75480425e-04\n",
      " -3.16627724e-04 -5.91292738e-04 -3.37609079e-04 -8.27809833e-04\n",
      " -3.05183348e-05 -5.32163464e-04 -9.21272233e-04 -5.18811692e-04\n",
      " -9.53697964e-05  2.67035430e-05 -9.42253588e-04 -1.99895093e-03\n",
      " -5.79848362e-04 -3.31886891e-04 -5.14996900e-04 -4.38701063e-04\n",
      " -1.29702923e-04 -6.21811072e-04 -3.50960851e-04]\n",
      "meets double sided p criterium: False\n",
      "[-2.28887511e-05 -4.57775023e-05 -5.34070860e-05 -9.53697964e-05\n",
      " -6.10366697e-05 -3.05183348e-05 -5.56959611e-04 -1.29702923e-04\n",
      "  1.79295217e-04 -5.18811692e-04 -2.09813552e-04 -1.37332507e-04\n",
      " -1.83110009e-04 -2.05998760e-04 -1.94554385e-04  1.86924801e-04\n",
      " -2.05998760e-04 -3.81479186e-05  0.00000000e+00 -6.10366697e-05\n",
      " -5.72218778e-05 -2.05998760e-04  7.62958371e-06 -1.14443756e-05\n",
      " -1.64036050e-04 -4.95922941e-05  3.81479186e-06 -4.19627104e-05\n",
      " -1.48776882e-04 -3.81479186e-05 -6.86662534e-05 -6.48514615e-05\n",
      " -1.14443756e-04 -9.53697964e-05 -4.95922941e-05 -1.10628964e-04\n",
      " -8.77402127e-05 -1.94554385e-04 -9.38438796e-04 -5.34070860e-05\n",
      " -1.64036050e-04 -2.67035430e-05  2.40331887e-04 -2.17443136e-04\n",
      " -2.05998760e-04 -9.53697964e-05 -1.44962091e-04 -1.33517715e-04\n",
      " -5.72218778e-05 -7.93476706e-04 -1.52591674e-05  3.81479186e-06\n",
      " -8.31624624e-04 -1.60221258e-04 -9.57512756e-04 -9.00290878e-04\n",
      " -1.90739593e-04 -2.17443136e-04 -4.19627104e-04 -4.57775023e-05\n",
      " -1.33517715e-04 -8.01106290e-05 -1.22073339e-04 -1.14443756e-04\n",
      " -2.47961471e-04 -5.72218778e-04 -3.12812932e-04  2.67035430e-05\n",
      " -7.24810453e-05 -4.95922941e-05  7.62958371e-06 -1.41147299e-04\n",
      " -1.03380859e-03 -4.95922941e-05 -1.71665633e-04  0.00000000e+00\n",
      " -1.60221258e-04 -1.29702923e-04 -6.21811072e-04 -3.54775643e-04\n",
      " -1.25888131e-04 -8.69772543e-04 -4.57775023e-05 -7.62958371e-05\n",
      " -2.13628344e-04 -1.71665633e-04 -1.22073339e-04 -9.99475466e-04\n",
      " -4.19627104e-05 -9.07920462e-04 -1.79295217e-04 -1.18258548e-04\n",
      " -3.50960851e-04  0.00000000e+00 -1.86924801e-04 -1.56406466e-04\n",
      " -1.52591674e-04 -4.27256688e-04 -8.77402127e-05 -1.14443756e-04\n",
      " -9.15550045e-05 -1.18258548e-04 -1.83110009e-04 -8.77402127e-05\n",
      " -1.25888131e-04 -1.25888131e-04 -8.65957751e-04 -1.06814172e-04\n",
      " -1.41147299e-04 -6.10366697e-05 -5.83663154e-04 -1.56406466e-04\n",
      " -5.26441276e-04 -1.75480425e-04 -3.16627724e-04 -5.91292738e-04\n",
      " -3.37609079e-04 -8.27809833e-04 -3.05183348e-05 -5.32163464e-04\n",
      " -9.21272233e-04 -5.18811692e-04 -9.53697964e-05  2.67035430e-05\n",
      " -9.42253588e-04 -5.79848362e-04 -3.31886891e-04 -5.14996900e-04\n",
      " -4.38701063e-04 -1.29702923e-04 -6.21811072e-04 -3.50960851e-04]\n",
      "meets single sided p criterium: False\n",
      "[-2.28887511e-05 -4.57775023e-05 -5.34070860e-05 -9.53697964e-05\n",
      " -6.10366697e-05 -3.05183348e-05 -5.56959611e-04 -1.29702923e-04\n",
      "  1.79295217e-04 -5.18811692e-04 -2.09813552e-04 -1.37332507e-04\n",
      " -1.83110009e-04 -2.05998760e-04 -1.94554385e-04  1.86924801e-04\n",
      " -2.05998760e-04 -3.81479186e-05  0.00000000e+00 -6.10366697e-05\n",
      " -5.72218778e-05 -2.05998760e-04  7.62958371e-06 -1.14443756e-05\n",
      " -1.64036050e-04 -4.95922941e-05  3.81479186e-06 -4.19627104e-05\n",
      " -1.48776882e-04 -3.81479186e-05 -6.86662534e-05 -6.48514615e-05\n",
      " -1.14443756e-04 -9.53697964e-05 -4.95922941e-05 -1.10628964e-04\n",
      " -8.77402127e-05 -1.94554385e-04 -9.38438796e-04 -5.34070860e-05\n",
      " -1.64036050e-04 -2.67035430e-05  2.40331887e-04 -2.17443136e-04\n",
      " -2.05998760e-04 -9.53697964e-05 -1.44962091e-04 -1.33517715e-04\n",
      " -5.72218778e-05 -7.93476706e-04 -1.52591674e-05  3.81479186e-06\n",
      " -8.31624624e-04 -1.60221258e-04 -9.57512756e-04 -9.00290878e-04\n",
      " -1.90739593e-04 -2.17443136e-04 -4.19627104e-04 -4.57775023e-05\n",
      " -1.33517715e-04 -8.01106290e-05 -1.22073339e-04 -1.14443756e-04\n",
      " -2.47961471e-04 -5.72218778e-04 -3.12812932e-04  2.67035430e-05\n",
      " -7.24810453e-05 -4.95922941e-05  7.62958371e-06 -1.41147299e-04\n",
      " -1.03380859e-03 -4.95922941e-05 -1.71665633e-04  0.00000000e+00\n",
      " -1.60221258e-04 -1.29702923e-04 -6.21811072e-04 -3.54775643e-04\n",
      " -1.25888131e-04 -8.69772543e-04 -4.57775023e-05 -7.62958371e-05\n",
      " -2.13628344e-04 -1.71665633e-04 -1.22073339e-04 -9.99475466e-04\n",
      " -4.19627104e-05 -9.07920462e-04 -1.79295217e-04 -1.18258548e-04\n",
      " -3.50960851e-04  0.00000000e+00 -1.86924801e-04 -1.56406466e-04\n",
      " -1.52591674e-04 -4.27256688e-04 -8.77402127e-05 -1.14443756e-04\n",
      " -9.15550045e-05 -1.18258548e-04 -1.83110009e-04 -8.77402127e-05\n",
      " -1.25888131e-04 -1.25888131e-04 -8.65957751e-04 -1.06814172e-04\n",
      " -1.41147299e-04 -6.10366697e-05 -5.83663154e-04 -1.56406466e-04\n",
      " -5.26441276e-04 -1.75480425e-04 -3.16627724e-04 -5.91292738e-04\n",
      " -3.37609079e-04 -8.27809833e-04 -3.05183348e-05 -5.32163464e-04\n",
      " -9.21272233e-04 -5.18811692e-04 -9.53697964e-05  2.67035430e-05\n",
      " -9.42253588e-04 -5.79848362e-04 -3.31886891e-04 -5.14996900e-04\n",
      " -4.38701063e-04 -1.29702923e-04 -6.21811072e-04 -3.50960851e-04]\n"
     ]
    }
   ],
   "source": [
    "[mu, sigma, sig, twosigma, threesigma, _, _] = analyze(data)"
   ]
  },
  {
   "cell_type": "code",
   "execution_count": 117,
   "id": "39dfb5b6",
   "metadata": {},
   "outputs": [
    {
     "name": "stdout",
     "output_type": "stream",
     "text": [
      "result = (-0.00023702284395622818+-2.409091485995462e-05)unit\n",
      "single measurement std = 0.00027678353925084646 unit\n",
      "meets 2 sigma criterium: False\n",
      "[-2.28887511e-05 -4.57775023e-05 -5.34070860e-05 -9.53697964e-05\n",
      " -6.10366697e-05 -3.05183348e-05 -5.56959611e-04 -1.29702923e-04\n",
      "  1.79295217e-04 -5.18811692e-04 -2.09813552e-04 -1.37332507e-04\n",
      " -1.83110009e-04 -2.05998760e-04 -1.94554385e-04  1.86924801e-04\n",
      " -2.05998760e-04 -3.81479186e-05  0.00000000e+00 -6.10366697e-05\n",
      " -5.72218778e-05 -2.05998760e-04  7.62958371e-06 -1.14443756e-05\n",
      " -1.64036050e-04 -4.95922941e-05  3.81479186e-06 -4.19627104e-05\n",
      " -1.48776882e-04 -3.81479186e-05 -6.86662534e-05 -6.48514615e-05\n",
      " -1.14443756e-04 -9.53697964e-05 -4.95922941e-05 -1.10628964e-04\n",
      " -8.77402127e-05 -1.94554385e-04 -5.34070860e-05 -1.64036050e-04\n",
      " -2.67035430e-05  2.40331887e-04 -2.17443136e-04 -2.05998760e-04\n",
      " -9.53697964e-05 -1.44962091e-04 -1.33517715e-04 -5.72218778e-05\n",
      " -1.52591674e-05  3.81479186e-06 -1.60221258e-04 -1.90739593e-04\n",
      " -2.17443136e-04 -4.19627104e-04 -4.57775023e-05 -1.33517715e-04\n",
      " -8.01106290e-05 -1.22073339e-04 -1.14443756e-04 -2.47961471e-04\n",
      " -5.72218778e-04 -3.12812932e-04  2.67035430e-05 -7.24810453e-05\n",
      " -4.95922941e-05  7.62958371e-06 -1.41147299e-04 -4.95922941e-05\n",
      " -1.71665633e-04  0.00000000e+00 -1.60221258e-04 -1.29702923e-04\n",
      " -6.21811072e-04 -3.54775643e-04 -1.25888131e-04 -4.57775023e-05\n",
      " -7.62958371e-05 -2.13628344e-04 -1.71665633e-04 -1.22073339e-04\n",
      " -4.19627104e-05 -1.79295217e-04 -1.18258548e-04 -3.50960851e-04\n",
      "  0.00000000e+00 -1.86924801e-04 -1.56406466e-04 -1.52591674e-04\n",
      " -4.27256688e-04 -8.77402127e-05 -1.14443756e-04 -9.15550045e-05\n",
      " -1.18258548e-04 -1.83110009e-04 -8.77402127e-05 -1.25888131e-04\n",
      " -1.25888131e-04 -1.06814172e-04 -1.41147299e-04 -6.10366697e-05\n",
      " -5.83663154e-04 -1.56406466e-04 -5.26441276e-04 -1.75480425e-04\n",
      " -3.16627724e-04 -5.91292738e-04 -3.37609079e-04 -3.05183348e-05\n",
      " -5.32163464e-04 -5.18811692e-04 -9.53697964e-05  2.67035430e-05\n",
      " -5.79848362e-04 -3.31886891e-04 -5.14996900e-04 -4.38701063e-04\n",
      " -1.29702923e-04 -6.21811072e-04 -3.50960851e-04]\n",
      "meets 3 sigma criterium: True\n",
      "[-2.28887511e-05 -4.57775023e-05 -5.34070860e-05 -9.53697964e-05\n",
      " -6.10366697e-05 -3.05183348e-05 -5.56959611e-04 -1.29702923e-04\n",
      "  1.79295217e-04 -5.18811692e-04 -2.09813552e-04 -1.37332507e-04\n",
      " -1.83110009e-04 -2.05998760e-04 -1.94554385e-04  1.86924801e-04\n",
      " -2.05998760e-04 -3.81479186e-05  0.00000000e+00 -6.10366697e-05\n",
      " -5.72218778e-05 -2.05998760e-04  7.62958371e-06 -1.14443756e-05\n",
      " -1.64036050e-04 -4.95922941e-05  3.81479186e-06 -4.19627104e-05\n",
      " -1.48776882e-04 -3.81479186e-05 -6.86662534e-05 -6.48514615e-05\n",
      " -1.14443756e-04 -9.53697964e-05 -4.95922941e-05 -1.10628964e-04\n",
      " -8.77402127e-05 -1.94554385e-04 -9.38438796e-04 -5.34070860e-05\n",
      " -1.64036050e-04 -2.67035430e-05  2.40331887e-04 -2.17443136e-04\n",
      " -2.05998760e-04 -9.53697964e-05 -1.44962091e-04 -1.33517715e-04\n",
      " -5.72218778e-05 -7.93476706e-04 -1.52591674e-05  3.81479186e-06\n",
      " -8.31624624e-04 -1.60221258e-04 -9.57512756e-04 -9.00290878e-04\n",
      " -1.90739593e-04 -2.17443136e-04 -4.19627104e-04 -4.57775023e-05\n",
      " -1.33517715e-04 -8.01106290e-05 -1.22073339e-04 -1.14443756e-04\n",
      " -2.47961471e-04 -5.72218778e-04 -3.12812932e-04  2.67035430e-05\n",
      " -7.24810453e-05 -4.95922941e-05  7.62958371e-06 -1.41147299e-04\n",
      " -1.03380859e-03 -4.95922941e-05 -1.71665633e-04  0.00000000e+00\n",
      " -1.60221258e-04 -1.29702923e-04 -6.21811072e-04 -3.54775643e-04\n",
      " -1.25888131e-04 -8.69772543e-04 -4.57775023e-05 -7.62958371e-05\n",
      " -2.13628344e-04 -1.71665633e-04 -1.22073339e-04 -9.99475466e-04\n",
      " -4.19627104e-05 -9.07920462e-04 -1.79295217e-04 -1.18258548e-04\n",
      " -3.50960851e-04  0.00000000e+00 -1.86924801e-04 -1.56406466e-04\n",
      " -1.52591674e-04 -4.27256688e-04 -8.77402127e-05 -1.14443756e-04\n",
      " -9.15550045e-05 -1.18258548e-04 -1.83110009e-04 -8.77402127e-05\n",
      " -1.25888131e-04 -1.25888131e-04 -8.65957751e-04 -1.06814172e-04\n",
      " -1.41147299e-04 -6.10366697e-05 -5.83663154e-04 -1.56406466e-04\n",
      " -5.26441276e-04 -1.75480425e-04 -3.16627724e-04 -5.91292738e-04\n",
      " -3.37609079e-04 -8.27809833e-04 -3.05183348e-05 -5.32163464e-04\n",
      " -9.21272233e-04 -5.18811692e-04 -9.53697964e-05  2.67035430e-05\n",
      " -9.42253588e-04 -5.79848362e-04 -3.31886891e-04 -5.14996900e-04\n",
      " -4.38701063e-04 -1.29702923e-04 -6.21811072e-04 -3.50960851e-04]\n",
      "meets double sided p criterium: False\n",
      "[-2.28887511e-05 -4.57775023e-05 -5.34070860e-05 -9.53697964e-05\n",
      " -6.10366697e-05 -3.05183348e-05 -5.56959611e-04 -1.29702923e-04\n",
      "  1.79295217e-04 -5.18811692e-04 -2.09813552e-04 -1.37332507e-04\n",
      " -1.83110009e-04 -2.05998760e-04 -1.94554385e-04  1.86924801e-04\n",
      " -2.05998760e-04 -3.81479186e-05  0.00000000e+00 -6.10366697e-05\n",
      " -5.72218778e-05 -2.05998760e-04  7.62958371e-06 -1.14443756e-05\n",
      " -1.64036050e-04 -4.95922941e-05  3.81479186e-06 -4.19627104e-05\n",
      " -1.48776882e-04 -3.81479186e-05 -6.86662534e-05 -6.48514615e-05\n",
      " -1.14443756e-04 -9.53697964e-05 -4.95922941e-05 -1.10628964e-04\n",
      " -8.77402127e-05 -1.94554385e-04 -5.34070860e-05 -1.64036050e-04\n",
      " -2.67035430e-05 -2.17443136e-04 -2.05998760e-04 -9.53697964e-05\n",
      " -1.44962091e-04 -1.33517715e-04 -5.72218778e-05 -1.52591674e-05\n",
      "  3.81479186e-06 -1.60221258e-04 -1.90739593e-04 -2.17443136e-04\n",
      " -4.19627104e-04 -4.57775023e-05 -1.33517715e-04 -8.01106290e-05\n",
      " -1.22073339e-04 -1.14443756e-04 -2.47961471e-04 -5.72218778e-04\n",
      " -3.12812932e-04  2.67035430e-05 -7.24810453e-05 -4.95922941e-05\n",
      "  7.62958371e-06 -1.41147299e-04 -4.95922941e-05 -1.71665633e-04\n",
      "  0.00000000e+00 -1.60221258e-04 -1.29702923e-04 -6.21811072e-04\n",
      " -3.54775643e-04 -1.25888131e-04 -4.57775023e-05 -7.62958371e-05\n",
      " -2.13628344e-04 -1.71665633e-04 -1.22073339e-04 -4.19627104e-05\n",
      " -1.79295217e-04 -1.18258548e-04 -3.50960851e-04  0.00000000e+00\n",
      " -1.86924801e-04 -1.56406466e-04 -1.52591674e-04 -4.27256688e-04\n",
      " -8.77402127e-05 -1.14443756e-04 -9.15550045e-05 -1.18258548e-04\n",
      " -1.83110009e-04 -8.77402127e-05 -1.25888131e-04 -1.25888131e-04\n",
      " -1.06814172e-04 -1.41147299e-04 -6.10366697e-05 -5.83663154e-04\n",
      " -1.56406466e-04 -5.26441276e-04 -1.75480425e-04 -3.16627724e-04\n",
      " -5.91292738e-04 -3.37609079e-04 -3.05183348e-05 -5.32163464e-04\n",
      " -5.18811692e-04 -9.53697964e-05  2.67035430e-05 -5.79848362e-04\n",
      " -3.31886891e-04 -5.14996900e-04 -4.38701063e-04 -1.29702923e-04\n",
      " -6.21811072e-04 -3.50960851e-04]\n",
      "meets single sided p criterium: False\n",
      "[-2.28887511e-05 -4.57775023e-05 -5.34070860e-05 -9.53697964e-05\n",
      " -6.10366697e-05 -3.05183348e-05 -5.56959611e-04 -1.29702923e-04\n",
      "  1.79295217e-04 -5.18811692e-04 -2.09813552e-04 -1.37332507e-04\n",
      " -1.83110009e-04 -2.05998760e-04 -1.94554385e-04  1.86924801e-04\n",
      " -2.05998760e-04 -3.81479186e-05  0.00000000e+00 -6.10366697e-05\n",
      " -5.72218778e-05 -2.05998760e-04  7.62958371e-06 -1.14443756e-05\n",
      " -1.64036050e-04 -4.95922941e-05  3.81479186e-06 -4.19627104e-05\n",
      " -1.48776882e-04 -3.81479186e-05 -6.86662534e-05 -6.48514615e-05\n",
      " -1.14443756e-04 -9.53697964e-05 -4.95922941e-05 -1.10628964e-04\n",
      " -8.77402127e-05 -1.94554385e-04 -5.34070860e-05 -1.64036050e-04\n",
      " -2.67035430e-05  2.40331887e-04 -2.17443136e-04 -2.05998760e-04\n",
      " -9.53697964e-05 -1.44962091e-04 -1.33517715e-04 -5.72218778e-05\n",
      " -1.52591674e-05  3.81479186e-06 -1.60221258e-04 -1.90739593e-04\n",
      " -2.17443136e-04 -4.19627104e-04 -4.57775023e-05 -1.33517715e-04\n",
      " -8.01106290e-05 -1.22073339e-04 -1.14443756e-04 -2.47961471e-04\n",
      " -5.72218778e-04 -3.12812932e-04  2.67035430e-05 -7.24810453e-05\n",
      " -4.95922941e-05  7.62958371e-06 -1.41147299e-04 -4.95922941e-05\n",
      " -1.71665633e-04  0.00000000e+00 -1.60221258e-04 -1.29702923e-04\n",
      " -6.21811072e-04 -3.54775643e-04 -1.25888131e-04 -4.57775023e-05\n",
      " -7.62958371e-05 -2.13628344e-04 -1.71665633e-04 -1.22073339e-04\n",
      " -4.19627104e-05 -1.79295217e-04 -1.18258548e-04 -3.50960851e-04\n",
      "  0.00000000e+00 -1.86924801e-04 -1.56406466e-04 -1.52591674e-04\n",
      " -4.27256688e-04 -8.77402127e-05 -1.14443756e-04 -9.15550045e-05\n",
      " -1.18258548e-04 -1.83110009e-04 -8.77402127e-05 -1.25888131e-04\n",
      " -1.25888131e-04 -1.06814172e-04 -1.41147299e-04 -6.10366697e-05\n",
      " -5.83663154e-04 -1.56406466e-04 -5.26441276e-04 -1.75480425e-04\n",
      " -3.16627724e-04 -5.91292738e-04 -3.37609079e-04 -3.05183348e-05\n",
      " -5.32163464e-04 -5.18811692e-04 -9.53697964e-05  2.67035430e-05\n",
      " -5.79848362e-04 -3.31886891e-04 -5.14996900e-04 -4.38701063e-04\n",
      " -1.29702923e-04 -6.21811072e-04 -3.50960851e-04]\n"
     ]
    }
   ],
   "source": [
    "[IIImu, IIIsigma, IIIsig, twosigma, threesigma, _, _] = analyze(threesigma)"
   ]
  },
  {
   "cell_type": "code",
   "execution_count": 118,
   "id": "51021b8b",
   "metadata": {},
   "outputs": [
    {
     "data": {
      "text/plain": [
       "[<matplotlib.lines.Line2D at 0x1b661fca490>]"
      ]
     },
     "execution_count": 118,
     "metadata": {},
     "output_type": "execute_result"
    },
    {
     "data": {
      "image/png": "[encoded data removed]",
      "text/plain": [
       "<Figure size 432x288 with 1 Axes>"
      ]
     },
     "metadata": {
      "needs_background": "light"
     },
     "output_type": "display_data"
    }
   ],
   "source": [
    "plt.plot(threesigma/lsp, 'r.')"
   ]
  },
  {
   "cell_type": "code",
   "execution_count": 123,
   "id": "93c66c0f",
   "metadata": {
    "scrolled": true
   },
   "outputs": [
    {
     "name": "stdout",
     "output_type": "stream",
     "text": [
      "result = (-0.00010189185988023401+-6.865599941318593e-06)unit\n",
      "single measurement std = 6.620944809877024e-05 unit\n",
      "meets 2 sigma criterium: True\n",
      "[-2.28887511e-05 -4.57775023e-05 -5.34070860e-05 -9.53697964e-05\n",
      " -6.10366697e-05 -3.05183348e-05 -1.29702923e-04 -2.09813552e-04\n",
      " -1.37332507e-04 -1.83110009e-04 -2.05998760e-04 -1.94554385e-04\n",
      " -2.05998760e-04 -3.81479186e-05  0.00000000e+00 -6.10366697e-05\n",
      " -5.72218778e-05 -2.05998760e-04  7.62958371e-06 -1.14443756e-05\n",
      " -1.64036050e-04 -4.95922941e-05  3.81479186e-06 -4.19627104e-05\n",
      " -1.48776882e-04 -3.81479186e-05 -6.86662534e-05 -6.48514615e-05\n",
      " -1.14443756e-04 -9.53697964e-05 -4.95922941e-05 -1.10628964e-04\n",
      " -8.77402127e-05 -1.94554385e-04 -5.34070860e-05 -1.64036050e-04\n",
      " -2.67035430e-05 -2.17443136e-04 -2.05998760e-04 -9.53697964e-05\n",
      " -1.44962091e-04 -1.33517715e-04 -5.72218778e-05 -1.52591674e-05\n",
      "  3.81479186e-06 -1.60221258e-04 -1.90739593e-04 -2.17443136e-04\n",
      " -4.57775023e-05 -1.33517715e-04 -8.01106290e-05 -1.22073339e-04\n",
      " -1.14443756e-04  2.67035430e-05 -7.24810453e-05 -4.95922941e-05\n",
      "  7.62958371e-06 -1.41147299e-04 -4.95922941e-05 -1.71665633e-04\n",
      "  0.00000000e+00 -1.60221258e-04 -1.29702923e-04 -1.25888131e-04\n",
      " -4.57775023e-05 -7.62958371e-05 -2.13628344e-04 -1.71665633e-04\n",
      " -1.22073339e-04 -4.19627104e-05 -1.79295217e-04 -1.18258548e-04\n",
      "  0.00000000e+00 -1.86924801e-04 -1.56406466e-04 -1.52591674e-04\n",
      " -8.77402127e-05 -1.14443756e-04 -9.15550045e-05 -1.18258548e-04\n",
      " -1.83110009e-04 -8.77402127e-05 -1.25888131e-04 -1.25888131e-04\n",
      " -1.06814172e-04 -1.41147299e-04 -6.10366697e-05 -1.56406466e-04\n",
      " -1.75480425e-04 -3.05183348e-05 -9.53697964e-05  2.67035430e-05\n",
      " -1.29702923e-04]\n",
      "meets 3 sigma criterium: True\n",
      "[-2.28887511e-05 -4.57775023e-05 -5.34070860e-05 -9.53697964e-05\n",
      " -6.10366697e-05 -3.05183348e-05 -1.29702923e-04 -2.09813552e-04\n",
      " -1.37332507e-04 -1.83110009e-04 -2.05998760e-04 -1.94554385e-04\n",
      " -2.05998760e-04 -3.81479186e-05  0.00000000e+00 -6.10366697e-05\n",
      " -5.72218778e-05 -2.05998760e-04  7.62958371e-06 -1.14443756e-05\n",
      " -1.64036050e-04 -4.95922941e-05  3.81479186e-06 -4.19627104e-05\n",
      " -1.48776882e-04 -3.81479186e-05 -6.86662534e-05 -6.48514615e-05\n",
      " -1.14443756e-04 -9.53697964e-05 -4.95922941e-05 -1.10628964e-04\n",
      " -8.77402127e-05 -1.94554385e-04 -5.34070860e-05 -1.64036050e-04\n",
      " -2.67035430e-05 -2.17443136e-04 -2.05998760e-04 -9.53697964e-05\n",
      " -1.44962091e-04 -1.33517715e-04 -5.72218778e-05 -1.52591674e-05\n",
      "  3.81479186e-06 -1.60221258e-04 -1.90739593e-04 -2.17443136e-04\n",
      " -4.57775023e-05 -1.33517715e-04 -8.01106290e-05 -1.22073339e-04\n",
      " -1.14443756e-04  2.67035430e-05 -7.24810453e-05 -4.95922941e-05\n",
      "  7.62958371e-06 -1.41147299e-04 -4.95922941e-05 -1.71665633e-04\n",
      "  0.00000000e+00 -1.60221258e-04 -1.29702923e-04 -1.25888131e-04\n",
      " -4.57775023e-05 -7.62958371e-05 -2.13628344e-04 -1.71665633e-04\n",
      " -1.22073339e-04 -4.19627104e-05 -1.79295217e-04 -1.18258548e-04\n",
      "  0.00000000e+00 -1.86924801e-04 -1.56406466e-04 -1.52591674e-04\n",
      " -8.77402127e-05 -1.14443756e-04 -9.15550045e-05 -1.18258548e-04\n",
      " -1.83110009e-04 -8.77402127e-05 -1.25888131e-04 -1.25888131e-04\n",
      " -1.06814172e-04 -1.41147299e-04 -6.10366697e-05 -1.56406466e-04\n",
      " -1.75480425e-04 -3.05183348e-05 -9.53697964e-05  2.67035430e-05\n",
      " -1.29702923e-04]\n",
      "meets double sided p criterium: False\n",
      "[-2.28887511e-05 -4.57775023e-05 -5.34070860e-05 -9.53697964e-05\n",
      " -6.10366697e-05 -3.05183348e-05 -1.29702923e-04 -2.09813552e-04\n",
      " -1.37332507e-04 -1.83110009e-04 -2.05998760e-04 -1.94554385e-04\n",
      " -2.05998760e-04 -3.81479186e-05  0.00000000e+00 -6.10366697e-05\n",
      " -5.72218778e-05 -2.05998760e-04 -1.14443756e-05 -1.64036050e-04\n",
      " -4.95922941e-05  3.81479186e-06 -4.19627104e-05 -1.48776882e-04\n",
      " -3.81479186e-05 -6.86662534e-05 -6.48514615e-05 -1.14443756e-04\n",
      " -9.53697964e-05 -4.95922941e-05 -1.10628964e-04 -8.77402127e-05\n",
      " -1.94554385e-04 -5.34070860e-05 -1.64036050e-04 -2.67035430e-05\n",
      " -2.05998760e-04 -9.53697964e-05 -1.44962091e-04 -1.33517715e-04\n",
      " -5.72218778e-05 -1.52591674e-05  3.81479186e-06 -1.60221258e-04\n",
      " -1.90739593e-04 -4.57775023e-05 -1.33517715e-04 -8.01106290e-05\n",
      " -1.22073339e-04 -1.14443756e-04 -7.24810453e-05 -4.95922941e-05\n",
      " -1.41147299e-04 -4.95922941e-05 -1.71665633e-04  0.00000000e+00\n",
      " -1.60221258e-04 -1.29702923e-04 -1.25888131e-04 -4.57775023e-05\n",
      " -7.62958371e-05 -1.71665633e-04 -1.22073339e-04 -4.19627104e-05\n",
      " -1.79295217e-04 -1.18258548e-04  0.00000000e+00 -1.86924801e-04\n",
      " -1.56406466e-04 -1.52591674e-04 -8.77402127e-05 -1.14443756e-04\n",
      " -9.15550045e-05 -1.18258548e-04 -1.83110009e-04 -8.77402127e-05\n",
      " -1.25888131e-04 -1.25888131e-04 -1.06814172e-04 -1.41147299e-04\n",
      " -6.10366697e-05 -1.56406466e-04 -1.75480425e-04 -3.05183348e-05\n",
      " -9.53697964e-05 -1.29702923e-04]\n",
      "meets single sided p criterium: True\n",
      "[-2.28887511e-05 -4.57775023e-05 -5.34070860e-05 -9.53697964e-05\n",
      " -6.10366697e-05 -3.05183348e-05 -1.29702923e-04 -2.09813552e-04\n",
      " -1.37332507e-04 -1.83110009e-04 -2.05998760e-04 -1.94554385e-04\n",
      " -2.05998760e-04 -3.81479186e-05  0.00000000e+00 -6.10366697e-05\n",
      " -5.72218778e-05 -2.05998760e-04  7.62958371e-06 -1.14443756e-05\n",
      " -1.64036050e-04 -4.95922941e-05  3.81479186e-06 -4.19627104e-05\n",
      " -1.48776882e-04 -3.81479186e-05 -6.86662534e-05 -6.48514615e-05\n",
      " -1.14443756e-04 -9.53697964e-05 -4.95922941e-05 -1.10628964e-04\n",
      " -8.77402127e-05 -1.94554385e-04 -5.34070860e-05 -1.64036050e-04\n",
      " -2.67035430e-05 -2.17443136e-04 -2.05998760e-04 -9.53697964e-05\n",
      " -1.44962091e-04 -1.33517715e-04 -5.72218778e-05 -1.52591674e-05\n",
      "  3.81479186e-06 -1.60221258e-04 -1.90739593e-04 -2.17443136e-04\n",
      " -4.57775023e-05 -1.33517715e-04 -8.01106290e-05 -1.22073339e-04\n",
      " -1.14443756e-04  2.67035430e-05 -7.24810453e-05 -4.95922941e-05\n",
      "  7.62958371e-06 -1.41147299e-04 -4.95922941e-05 -1.71665633e-04\n",
      "  0.00000000e+00 -1.60221258e-04 -1.29702923e-04 -1.25888131e-04\n",
      " -4.57775023e-05 -7.62958371e-05 -2.13628344e-04 -1.71665633e-04\n",
      " -1.22073339e-04 -4.19627104e-05 -1.79295217e-04 -1.18258548e-04\n",
      "  0.00000000e+00 -1.86924801e-04 -1.56406466e-04 -1.52591674e-04\n",
      " -8.77402127e-05 -1.14443756e-04 -9.15550045e-05 -1.18258548e-04\n",
      " -1.83110009e-04 -8.77402127e-05 -1.25888131e-04 -1.25888131e-04\n",
      " -1.06814172e-04 -1.41147299e-04 -6.10366697e-05 -1.56406466e-04\n",
      " -1.75480425e-04 -3.05183348e-05 -9.53697964e-05  2.67035430e-05\n",
      " -1.29702923e-04]\n"
     ]
    }
   ],
   "source": [
    "[IImu, IIsigma, IIsig, twosigma, _, _, _] = analyze(twosigma)"
   ]
  },
  {
   "cell_type": "code",
   "execution_count": 124,
   "id": "41a2bf0b",
   "metadata": {},
   "outputs": [
    {
     "data": {
      "text/plain": [
       "[<matplotlib.lines.Line2D at 0x1b662035370>]"
      ]
     },
     "execution_count": 124,
     "metadata": {},
     "output_type": "execute_result"
    },
    {
     "data": {
      "image/png": "[encoded data removed]",
      "text/plain": [
       "<Figure size 432x288 with 1 Axes>"
      ]
     },
     "metadata": {
      "needs_background": "light"
     },
     "output_type": "display_data"
    }
   ],
   "source": [
    "plt.plot(twosigma/lsp, 'b.')"
   ]
  },
  {
   "cell_type": "code",
   "execution_count": 125,
   "id": "76942b4c",
   "metadata": {},
   "outputs": [
    {
     "name": "stdout",
     "output_type": "stream",
     "text": [
      "Two sigma mean: -2.5040943484166305\n",
      "Two sigma std: 1.627163396475377\n",
      "Three sigma mean: -5.825073413068264\n",
      "Three sigma std: 6.802232260628803\n"
     ]
    }
   ],
   "source": [
    "print('Two sigma mean: ' + str(np.mean(twosigma/lsp)))\n",
    "print('Two sigma std: ' + str(np.std(twosigma/lsp,ddof=1)))\n",
    "\n",
    "print('Three sigma mean: ' + str(np.mean(threesigma/lsp)))\n",
    "print('Three sigma std: ' + str(np.std(threesigma/lsp,ddof=1)))"
   ]
  },
  {
   "cell_type": "code",
   "execution_count": null,
   "id": "6d4e9743",
   "metadata": {},
   "outputs": [],
   "source": []
  },
  {
   "cell_type": "code",
   "execution_count": null,
   "id": "0fae2847",
   "metadata": {},
   "outputs": [],
   "source": []
  },
  {
   "cell_type": "code",
   "execution_count": null,
   "id": "58cfe0a9",
   "metadata": {},
   "outputs": [],
   "source": []
  },
  {
   "cell_type": "code",
   "execution_count": null,
   "id": "4f93accf",
   "metadata": {},
   "outputs": [],
   "source": []
  },
  {
   "cell_type": "code",
   "execution_count": null,
   "id": "a347bb12",
   "metadata": {},
   "outputs": [],
   "source": []
  },
  {
   "cell_type": "code",
   "execution_count": null,
   "id": "b3f42ff8",
   "metadata": {},
   "outputs": [],
   "source": [
    "####################################################################################################################\n",
    "#  3 sigma 99.7%\n",
    "#  2 sigma 95.5%"
   ]
  },
  {
   "cell_type": "code",
   "execution_count": 17,
   "id": "d5f76b55",
   "metadata": {},
   "outputs": [
    {
     "data": {
      "text/plain": [
       "[<matplotlib.lines.Line2D at 0x1581d5d0788>]"
      ]
     },
     "execution_count": 17,
     "metadata": {},
     "output_type": "execute_result"
    },
    {
     "data": {
      "image/png": "[encoded data removed]",
      "text/plain": [
       "<Figure size 432x288 with 1 Axes>"
      ]
     },
     "metadata": {
      "needs_background": "light"
     },
     "output_type": "display_data"
    }
   ],
   "source": [
    "mu = 149.5\n",
    "sigma = 20.527758983602883\n",
    "x = np.arange(80,220)\n",
    "plt.plot(x,prob(x,mu,sigma))"
   ]
  },
  {
   "cell_type": "code",
   "execution_count": 18,
   "id": "0c52e640",
   "metadata": {},
   "outputs": [
    {
     "name": "stdout",
     "output_type": "stream",
     "text": [
      "190.55551796720576\n",
      "108.44448203279424\n"
     ]
    }
   ],
   "source": [
    "print(mu+sigma*2)\n",
    "print(mu-sigma*2)"
   ]
  },
  {
   "cell_type": "code",
   "execution_count": 20,
   "id": "5eba5c0d",
   "metadata": {},
   "outputs": [
    {
     "name": "stdout",
     "output_type": "stream",
     "text": [
      "result = (154.33333333333334+-4.844813951249544)unit\n",
      "single measurement std = 14.534441853748634 unit\n",
      "meets 2 sigma criterium: True\n",
      "[162 150 161 161 152 126 154 144 179]\n",
      "meets 3 sigma criterium: True\n",
      "[162 150 161 161 152 126 154 144 179]\n",
      "meets double sided p criterium: False\n",
      "[162 150 161 161 152 154 144]\n",
      "meets single sided p criterium: True\n",
      "[162 150 161 161 152 126 154 144 179]\n"
     ]
    },
    {
     "data": {
      "text/plain": [
       "(154.33333333333334,\n",
       " 14.534441853748634,\n",
       " 4.844813951249544,\n",
       " array([162, 150, 161, 161, 152, 126, 154, 144, 179]),\n",
       " array([162, 150, 161, 161, 152, 126, 154, 144, 179]),\n",
       " array([162, 150, 161, 161, 152, 154, 144]),\n",
       " array([162, 150, 161, 161, 152, 126, 154, 144, 179]))"
      ]
     },
     "execution_count": 20,
     "metadata": {},
     "output_type": "execute_result"
    }
   ],
   "source": [
    "d= [162, 150, 161, 161, 152, 126, 154, 144, 179]\n",
    "analyze(d)"
   ]
  },
  {
   "cell_type": "code",
   "execution_count": 22,
   "id": "c75e4362",
   "metadata": {},
   "outputs": [
    {
     "name": "stdout",
     "output_type": "stream",
     "text": [
      "197.93665889457924\n",
      "110.73000777208745\n"
     ]
    }
   ],
   "source": [
    "mu=154.33333333333334\n",
    "sigma=14.534441853748634\n",
    "print(mu+sigma*3)\n",
    "print(mu-sigma*3)"
   ]
  },
  {
   "cell_type": "code",
   "execution_count": 35,
   "id": "ab44f309",
   "metadata": {},
   "outputs": [
    {
     "name": "stdout",
     "output_type": "stream",
     "text": [
      "0.3699271533945822\n"
     ]
    }
   ],
   "source": [
    "a=57\n",
    "sa=1\n",
    "b=74.5\n",
    "sb=0.5\n",
    "\n",
    "a=np.deg2rad(a)\n",
    "sa=np.deg2rad(sa)\n",
    "b=np.deg2rad(b)\n",
    "sb=np.deg2rad(sb)\n",
    "\n",
    "d= 6.72\n",
    "sd= 0.03\n",
    "\n",
    "print(((d*sa)/(np.sin(a) *(1/np.tan(a)))**2 + ((1/np.tan(b))**2)+(d*sb)/(np.sin(b))**2 *(1/np.tan(a))**2 + ((1/np.tan(b))**2)+(sd)/(1/np.tan(a) + 1/np.tan(b)))**2)"
   ]
  },
  {
   "cell_type": "code",
   "execution_count": 25,
   "id": "8972670b",
   "metadata": {},
   "outputs": [
    {
     "data": {
      "text/plain": [
       "0.5477225575051661"
      ]
     },
     "execution_count": 25,
     "metadata": {},
     "output_type": "execute_result"
    }
   ],
   "source": [
    "np.sqrt(0.3)"
   ]
  },
  {
   "cell_type": "code",
   "execution_count": 9,
   "id": "01326c05",
   "metadata": {},
   "outputs": [],
   "source": [
    "### Gauss ###\n",
    "mu = 0 \n",
    "sigma = 1\n",
    "\n",
    "# hustota pravděpodobnosti\n",
    "def prob(x, mu = 0, sigma = 1):\n",
    "    return 1/np.sqrt(2*np.pi*sigma**2) * np.exp(-np.square(x-mu)/(2*sigma**2))\n",
    "\n",
    "# distribuční funkce\n",
    "def dist(x, mu = 0, sigma = 1):\n",
    "    return 0.5 * (1 + sps.erf((x-mu)/(np.sqrt(2*sigma**2)))) \n",
    "\n",
    "\n",
    "### Cauchy ###\n",
    "\n",
    "x0 = 0\n",
    "L = 1\n",
    "\n",
    "# hustota pravděpodobnosti\n",
    "def cprob(x, x0=0,L=1):\n",
    "    return 1/np.pi * L/(L**2+np.square(x-x0))\n",
    "\n",
    "# distribuční funkce\n",
    "def cdist(x, x0=0,L=1):\n",
    "    return 1/np.pi * ((np.pi)/(2) + np.arctan((x-x0)/(L)))"
   ]
  },
  {
   "cell_type": "code",
   "execution_count": 3,
   "id": "ac300b30",
   "metadata": {},
   "outputs": [],
   "source": [
    "b = np.arange(0,15)\n",
    "### Binomicke rozdeleni ###\n",
    "\n",
    "def binom(k, N, p):\n",
    "    return sps.comb(N,k) * p**k * (1-p)**(N-k)\n",
    "\n",
    "### Poissonovo rozdělení ###\n",
    "\n",
    "def poiss(k, v):\n",
    "    return ((v**k)/(sps.factorial(k)))*np.exp(-v)"
   ]
  },
  {
   "cell_type": "code",
   "execution_count": 7,
   "id": "f1408c39",
   "metadata": {},
   "outputs": [
    {
     "data": {
      "text/plain": [
       "0.9365272345199902"
      ]
     },
     "execution_count": 7,
     "metadata": {},
     "output_type": "execute_result"
    }
   ],
   "source": [
    "k = np.array([8,9,10])\n",
    "binom(k, 10, 0.904).sum()"
   ]
  },
  {
   "cell_type": "code",
   "execution_count": 9,
   "id": "8d46a307",
   "metadata": {},
   "outputs": [
    {
     "data": {
      "text/plain": [
       "0.3685409848335519"
      ]
     },
     "execution_count": 9,
     "metadata": {},
     "output_type": "execute_result"
    }
   ],
   "source": [
    "binom(10, 10, 0.905)"
   ]
  },
  {
   "cell_type": "code",
   "execution_count": 13,
   "id": "34320445",
   "metadata": {},
   "outputs": [
    {
     "data": {
      "text/plain": [
       "0.010940321438470813"
      ]
     },
     "execution_count": 13,
     "metadata": {},
     "output_type": "execute_result"
    }
   ],
   "source": [
    "p3= 0.1e-2\n",
    "p1=0.904\n",
    "p = (p3)/(p3+p1)\n",
    "binom(1,10,p)"
   ]
  },
  {
   "cell_type": "code",
   "execution_count": 14,
   "id": "51a1be2e",
   "metadata": {},
   "outputs": [
    {
     "data": {
      "text/plain": [
       "0.0011049723756906078"
      ]
     },
     "execution_count": 14,
     "metadata": {},
     "output_type": "execute_result"
    }
   ],
   "source": [
    "p"
   ]
  },
  {
   "cell_type": "code",
   "execution_count": 3,
   "id": "7ed61339",
   "metadata": {
    "collapsed": true
   },
   "outputs": [
    {
     "data": {
      "text/plain": [
       "[<matplotlib.lines.Line2D at 0x18e6c440988>]"
      ]
     },
     "execution_count": 3,
     "metadata": {},
     "output_type": "execute_result"
    },
    {
     "data": {
      "image/png": "[encoded data removed]",
      "text/plain": [
       "<Figure size 432x288 with 1 Axes>"
      ]
     },
     "metadata": {
      "needs_background": "light"
     },
     "output_type": "display_data"
    }
   ],
   "source": [
    "plt.plot(a,prob(a,mu=0,sigma=1))"
   ]
  },
  {
   "cell_type": "code",
   "execution_count": 4,
   "id": "4c311950",
   "metadata": {
    "collapsed": true
   },
   "outputs": [
    {
     "data": {
      "text/plain": [
       "[<matplotlib.lines.Line2D at 0x18e6cf218c8>]"
      ]
     },
     "execution_count": 4,
     "metadata": {},
     "output_type": "execute_result"
    },
    {
     "data": {
      "image/png": "[encoded data removed]",
      "text/plain": [
       "<Figure size 432x288 with 1 Axes>"
      ]
     },
     "metadata": {
      "needs_background": "light"
     },
     "output_type": "display_data"
    }
   ],
   "source": [
    "plt.plot(a,dist(a))"
   ]
  },
  {
   "cell_type": "code",
   "execution_count": 5,
   "id": "11865506",
   "metadata": {
    "collapsed": true
   },
   "outputs": [
    {
     "data": {
      "text/plain": [
       "[<matplotlib.lines.Line2D at 0x18e6cfacb48>]"
      ]
     },
     "execution_count": 5,
     "metadata": {},
     "output_type": "execute_result"
    },
    {
     "data": {
      "image/png": "[encoded data removed]",
      "text/plain": [
       "<Figure size 432x288 with 1 Axes>"
      ]
     },
     "metadata": {
      "needs_background": "light"
     },
     "output_type": "display_data"
    }
   ],
   "source": [
    "plt.plot(a,cprob(a))"
   ]
  },
  {
   "cell_type": "code",
   "execution_count": 6,
   "id": "9d3c6bd3",
   "metadata": {
    "collapsed": true
   },
   "outputs": [
    {
     "data": {
      "text/plain": [
       "[<matplotlib.lines.Line2D at 0x18e6d01af48>]"
      ]
     },
     "execution_count": 6,
     "metadata": {},
     "output_type": "execute_result"
    },
    {
     "data": {
      "image/png": "[encoded data removed]",
      "text/plain": [
       "<Figure size 432x288 with 1 Axes>"
      ]
     },
     "metadata": {
      "needs_background": "light"
     },
     "output_type": "display_data"
    }
   ],
   "source": [
    "plt.plot(a,cdist(a))"
   ]
  },
  {
   "cell_type": "code",
   "execution_count": 8,
   "id": "6c59d77a",
   "metadata": {},
   "outputs": [
    {
     "data": {
      "text/plain": [
       "0.17619705200195312"
      ]
     },
     "execution_count": 8,
     "metadata": {},
     "output_type": "execute_result"
    }
   ],
   "source": [
    "#     k  N   p\n",
    "binom(10,20,0.5)"
   ]
  },
  {
   "cell_type": "code",
   "execution_count": 12,
   "id": "d556d8a8",
   "metadata": {},
   "outputs": [
    {
     "data": {
      "text/plain": [
       "0.012740638735861376"
      ]
     },
     "execution_count": 12,
     "metadata": {},
     "output_type": "execute_result"
    }
   ],
   "source": [
    "#     k  v\n",
    "poiss(5,12)"
   ]
  },
  {
   "cell_type": "code",
   "execution_count": 29,
   "id": "243e87d8",
   "metadata": {
    "collapsed": true
   },
   "outputs": [
    {
     "data": {
      "text/plain": [
       "[<matplotlib.lines.Line2D at 0x18e6ecc83c8>]"
      ]
     },
     "execution_count": 29,
     "metadata": {},
     "output_type": "execute_result"
    },
    {
     "data": {
      "image/png": "[encoded data removed]",
      "text/plain": [
       "<Figure size 432x288 with 1 Axes>"
      ]
     },
     "metadata": {
      "needs_background": "light"
     },
     "output_type": "display_data"
    }
   ],
   "source": [
    "plt.plot(b, binom(b, 20, 0.5),'o')"
   ]
  },
  {
   "cell_type": "code",
   "execution_count": 41,
   "id": "77787b4c",
   "metadata": {
    "collapsed": true
   },
   "outputs": [
    {
     "data": {
      "text/plain": [
       "[<matplotlib.lines.Line2D at 0x18e70343b88>]"
      ]
     },
     "execution_count": 41,
     "metadata": {},
     "output_type": "execute_result"
    },
    {
     "data": {
      "image/png": "[encoded data removed]",
      "text/plain": [
       "<Figure size 432x288 with 1 Axes>"
      ]
     },
     "metadata": {
      "needs_background": "light"
     },
     "output_type": "display_data"
    }
   ],
   "source": [
    "plt.plot(b, poiss(b, 11),'o') #### WATCHOUT FOR OVERFLOW!!!!!!"
   ]
  },
  {
   "cell_type": "code",
   "execution_count": null,
   "id": "c09da332",
   "metadata": {},
   "outputs": [],
   "source": [
    "### NP.ARANGE(A,B) A-davat od nuly kdyz ma byt od nuly; B-neni zahrnuto!!!!"
   ]
  },
  {
   "cell_type": "code",
   "execution_count": null,
   "id": "5b4361f3",
   "metadata": {},
   "outputs": [],
   "source": []
  },
  {
   "cell_type": "code",
   "execution_count": 18,
   "id": "0f78fa7e",
   "metadata": {},
   "outputs": [
    {
     "data": {
      "text/plain": [
       "5.98736939238379e-11"
      ]
     },
     "execution_count": 18,
     "metadata": {},
     "output_type": "execute_result"
    }
   ],
   "source": [
    "binom(10,10,9.5e-2)"
   ]
  }
 ],
 "metadata": {
  "kernelspec": {
   "display_name": "Python 3",
   "language": "python",
   "name": "python3"
  },
  "language_info": {
   "codemirror_mode": {
    "name": "ipython",
    "version": 3
   },
   "file_extension": ".py",
   "mimetype": "text/x-python",
   "name": "python",
   "nbconvert_exporter": "python",
   "pygments_lexer": "ipython3",
   "version": "3.9.1"
  }
 },
 "nbformat": 4,
 "nbformat_minor": 5
}
